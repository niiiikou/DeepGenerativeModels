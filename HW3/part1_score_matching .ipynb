{
  "cells": [
    {
      "cell_type": "markdown",
      "metadata": {
        "id": "Soq5u4EmfvOQ"
      },
      "source": [
        "<div style=\"display:block\" direction=rtl align=right><br><br>\n",
        "    <div  style=\"width:100%;margin:100;display:block\"  display=block align=center>\n",
        "        <img width=130 align=right src=\"https://i.ibb.co/yXKQmtZ/logo1.png\" style=\"margin:0;\" />\n",
        "        <img width=170 align=left  src=\"https://i.ibb.co/wLjqFkw/logo2.png\" style=\"margin:0;\" />\n",
        "        <span><br><font size=5>University of Tehran , school of ECE</font></span>\n",
        "        <span><br><font size=3>Deep Generative Models Course</font></span>\n",
        "        <span><br><font size=3>Fall 2022</font></span>\n",
        "    </div><br><br><br>\n",
        "    <div style=\"display:block\" align=left display=block> \n",
        "        <font size=3>Homework 3</font><br>\n",
        "        <hr />\n",
        "        <font size=3>TA: <a href=\"mailto:aliizadi2030@gmail.com\">Ali Izadi</a><br></font><br>\n",
        "    </div>\n",
        "</div>"
      ]
    },
    {
      "cell_type": "markdown",
      "metadata": {
        "id": "pQy8lIQliqPz"
      },
      "source": [
        "# Part 1: Score matching"
      ]
    },
    {
      "cell_type": "markdown",
      "metadata": {
        "id": "I8fg91_-U0oa"
      },
      "source": [
        "# 1-1 load dataset\n"
      ]
    },
    {
      "cell_type": "code",
      "execution_count": 1,
      "metadata": {
        "id": "T09e9B3yRbkz",
        "colab": {
          "base_uri": "https://localhost:8080/",
          "height": 283
        },
        "outputId": "79a56611-d64d-46c7-dfb5-7d61c09ed86c"
      },
      "outputs": [
        {
          "output_type": "execute_result",
          "data": {
            "text/plain": [
              "[<matplotlib.lines.Line2D at 0x7fcea4861cd0>]"
            ]
          },
          "metadata": {},
          "execution_count": 1
        },
        {
          "output_type": "display_data",
          "data": {
            "text/plain": [
              "<Figure size 432x288 with 1 Axes>"
            ],
            "image/png": "[encoded data removed]"
          },
          "metadata": {
            "needs_background": "light"
          }
        }
      ],
      "source": [
        "import torch\n",
        "from sklearn.datasets import make_swiss_roll\n",
        "import numpy as np\n",
        "\n",
        "# generate the swiss roll dataset\n",
        "xnp, _ = make_swiss_roll(1000, noise=1.0)\n",
        "xtns = torch.as_tensor(xnp[:, [0, 2]] / 10.0, dtype=torch.float32)\n",
        "dset = torch.utils.data.TensorDataset(xtns)\n",
        "\n",
        "# show the samples\n",
        "import matplotlib.pyplot as plt\n",
        "plt.plot(xtns[:, 0], xtns[:, 1], 'C0.')"
      ]
    },
    {
      "cell_type": "markdown",
      "metadata": {
        "id": "LCE9YKSnVErB"
      },
      "source": [
        "# 1-2 Neural Network for: $\\mathbf{s_\\theta}(\\mathbf{x})$"
      ]
    },
    {
      "cell_type": "code",
      "execution_count": 2,
      "metadata": {
        "id": "ptfgXHVaWCOD"
      },
      "outputs": [],
      "source": [
        "# score_network takes input of 2 dimension and returns the output of the same size\n",
        "score_network = torch.nn.Sequential(\n",
        "    torch.nn.Linear(2, 64),\n",
        "    torch.nn.LogSigmoid(),\n",
        "    torch.nn.Linear(64, 64),\n",
        "    torch.nn.LogSigmoid(),\n",
        "    torch.nn.Linear(64, 64),\n",
        "    torch.nn.LogSigmoid(),\n",
        "    torch.nn.Linear(64, 2),\n",
        ")"
      ]
    },
    {
      "cell_type": "markdown",
      "metadata": {
        "id": "PZKbjvXBYJuW"
      },
      "source": [
        "# 1-3 Score Matching\n"
      ]
    },
    {
      "cell_type": "markdown",
      "metadata": {
        "id": "XTdUlT3_WFry"
      },
      "source": [
        "Now let's implement the first and second terms of the loss function below,\n",
        "$$\\begin{equation}\n",
        "\\mathcal{L}(\\theta) = \\mathbb{E}_{\\mathbf{x}\\sim p(\\mathbf{x})}\\left[\\frac{1}{2} \\left\\lVert\\mathbf{s_\\theta}(\\mathbf{x})\\right\\rVert^2 + \\mathrm{tr}\\left(\\nabla_\\mathbf{x} \\mathbf{s_\\theta}(\\mathbf{x})\\right)\\right].\n",
        "\\end{equation}$$\n",
        "To get the Jacobian, you can use the function from ``functorch`` or other methods you prefer."
      ]
    },
    {
      "cell_type": "code",
      "execution_count": 3,
      "metadata": {
        "id": "LsX4LzuYaPM9",
        "colab": {
          "base_uri": "https://localhost:8080/"
        },
        "outputId": "f92ae9a7-81e9-4456-a1ef-42a2a614092d"
      },
      "outputs": [
        {
          "output_type": "stream",
          "name": "stdout",
          "text": [
            "Looking in indexes: https://pypi.org/simple, https://us-python.pkg.dev/colab-wheels/public/simple/\n",
            "Collecting functorch\n",
            "  Downloading functorch-1.13.1-py2.py3-none-any.whl (2.1 kB)\n",
            "Collecting torch<1.13.2,>=1.13.1\n",
            "  Downloading torch-1.13.1-cp38-cp38-manylinux1_x86_64.whl (887.4 MB)\n",
            "\u001b[2K     \u001b[91m━━━━━━━━━━━━━━━━━━━━━━━━━━━━━━━━━━━━\u001b[0m\u001b[91m╸\u001b[0m \u001b[32m887.4/887.4 MB\u001b[0m \u001b[31m191.4 MB/s\u001b[0m eta \u001b[36m0:00:01\u001b[0mtcmalloc: large alloc 1109270528 bytes == 0x37b3c000 @  0x7ff8b9fc1615 0x5d6f4c 0x51edd1 0x51ef5b 0x4f750a 0x4997a2 0x55cd91 0x5d8941 0x4997a2 0x55cd91 0x5d8941 0x4997a2 0x55cd91 0x5d8941 0x4997a2 0x55cd91 0x5d8941 0x4997a2 0x55cd91 0x5d8941 0x4997a2 0x5d8868 0x4997a2 0x55cd91 0x5d8941 0x49abe4 0x55cd91 0x5d8941 0x4997a2 0x55cd91 0x5d8941\n",
            "\u001b[2K     \u001b[90m━━━━━━━━━━━━━━━━━━━━━━━━━━━━━━━━━━━━━━━\u001b[0m \u001b[32m887.4/887.4 MB\u001b[0m \u001b[31m1.8 MB/s\u001b[0m eta \u001b[36m0:00:00\u001b[0m\n",
            "\u001b[?25hCollecting nvidia-cuda-runtime-cu11==11.7.99\n",
            "  Downloading nvidia_cuda_runtime_cu11-11.7.99-py3-none-manylinux1_x86_64.whl (849 kB)\n",
            "\u001b[2K     \u001b[90m━━━━━━━━━━━━━━━━━━━━━━━━━━━━━━━━━━━━━━\u001b[0m \u001b[32m849.3/849.3 KB\u001b[0m \u001b[31m12.8 MB/s\u001b[0m eta \u001b[36m0:00:00\u001b[0m\n",
            "\u001b[?25hCollecting nvidia-cublas-cu11==11.10.3.66\n",
            "  Downloading nvidia_cublas_cu11-11.10.3.66-py3-none-manylinux1_x86_64.whl (317.1 MB)\n",
            "\u001b[2K     \u001b[90m━━━━━━━━━━━━━━━━━━━━━━━━━━━━━━━━━━━━━━━\u001b[0m \u001b[32m317.1/317.1 MB\u001b[0m \u001b[31m5.1 MB/s\u001b[0m eta \u001b[36m0:00:00\u001b[0m\n",
            "\u001b[?25hCollecting nvidia-cuda-nvrtc-cu11==11.7.99\n",
            "  Downloading nvidia_cuda_nvrtc_cu11-11.7.99-2-py3-none-manylinux1_x86_64.whl (21.0 MB)\n",
            "\u001b[2K     \u001b[90m━━━━━━━━━━━━━━━━━━━━━━━━━━━━━━━━━━━━━━━━\u001b[0m \u001b[32m21.0/21.0 MB\u001b[0m \u001b[31m65.8 MB/s\u001b[0m eta \u001b[36m0:00:00\u001b[0m\n",
            "\u001b[?25hCollecting nvidia-cudnn-cu11==8.5.0.96\n",
            "  Downloading nvidia_cudnn_cu11-8.5.0.96-2-py3-none-manylinux1_x86_64.whl (557.1 MB)\n",
            "\u001b[2K     \u001b[90m━━━━━━━━━━━━━━━━━━━━━━━━━━━━━━━━━━━━━━━\u001b[0m \u001b[32m557.1/557.1 MB\u001b[0m \u001b[31m3.3 MB/s\u001b[0m eta \u001b[36m0:00:00\u001b[0m\n",
            "\u001b[?25hRequirement already satisfied: typing-extensions in /usr/local/lib/python3.8/dist-packages (from torch<1.13.2,>=1.13.1->functorch) (4.4.0)\n",
            "Requirement already satisfied: setuptools in /usr/local/lib/python3.8/dist-packages (from nvidia-cublas-cu11==11.10.3.66->torch<1.13.2,>=1.13.1->functorch) (57.4.0)\n",
            "Requirement already satisfied: wheel in /usr/local/lib/python3.8/dist-packages (from nvidia-cublas-cu11==11.10.3.66->torch<1.13.2,>=1.13.1->functorch) (0.38.4)\n",
            "Installing collected packages: nvidia-cuda-runtime-cu11, nvidia-cuda-nvrtc-cu11, nvidia-cublas-cu11, nvidia-cudnn-cu11, torch, functorch\n",
            "  Attempting uninstall: torch\n",
            "    Found existing installation: torch 1.13.0+cu116\n",
            "    Uninstalling torch-1.13.0+cu116:\n",
            "      Successfully uninstalled torch-1.13.0+cu116\n",
            "\u001b[31mERROR: pip's dependency resolver does not currently take into account all the packages that are installed. This behaviour is the source of the following dependency conflicts.\n",
            "torchvision 0.14.0+cu116 requires torch==1.13.0, but you have torch 1.13.1 which is incompatible.\n",
            "torchtext 0.14.0 requires torch==1.13.0, but you have torch 1.13.1 which is incompatible.\n",
            "torchaudio 0.13.0+cu116 requires torch==1.13.0, but you have torch 1.13.1 which is incompatible.\u001b[0m\u001b[31m\n",
            "\u001b[0mSuccessfully installed functorch-1.13.1 nvidia-cublas-cu11-11.10.3.66 nvidia-cuda-nvrtc-cu11-11.7.99 nvidia-cuda-runtime-cu11-11.7.99 nvidia-cudnn-cu11-8.5.0.96 torch-1.13.1\n"
          ]
        }
      ],
      "source": [
        "!pip install functorch"
      ]
    },
    {
      "cell_type": "code",
      "execution_count": 4,
      "metadata": {
        "id": "UN52ud4wWppV"
      },
      "outputs": [],
      "source": [
        "from functorch import jacrev, vmap\n",
        "\n",
        "def calc_loss(score_network: torch.nn.Module, x: torch.Tensor) -> torch.Tensor:\n",
        "    # x: (batch_size, 2) is the training data\n",
        "    score = score_network(x)  # score: (batch_size, 2)\n",
        "    \n",
        "    ################################################################################\n",
        "    # TODO: complete the code here for computing score matching L\n",
        "\n",
        "    # first term: half of the squared norm\n",
        "\n",
        "    first_term = torch.norm(score, dim=-1) ** 2 / 2.\n",
        "  \n",
        "    # second term: trace of the Jacobian\n",
        "  \n",
        "    compute_batch_jacobian = vmap(jacrev(score_network))(data)\n",
        "    second_term = torch.einsum('bii->b', compute_batch_jacobian)\n",
        "\n",
        "    # return loss = first term + second term\n",
        "    \n",
        "    loss = (first_term + second_term).mean(-1)\n",
        "\n",
        "    return loss\n",
        "\n",
        "    # End \n",
        "    ################################################################################\n"
      ]
    },
    {
      "cell_type": "markdown",
      "metadata": {
        "id": "nYF_9ASMYFKV"
      },
      "source": [
        "# 1-4 Training"
      ]
    },
    {
      "cell_type": "markdown",
      "metadata": {
        "id": "hKaV5X1AYUe-"
      },
      "source": [
        "Everything is ready, now we can start the training. In my computer, it takes about 10-15 minutes to finish."
      ]
    },
    {
      "cell_type": "code",
      "execution_count": 5,
      "metadata": {
        "id": "2gIsgMxnX_7V",
        "colab": {
          "base_uri": "https://localhost:8080/"
        },
        "outputId": "4309736c-0b05-40ac-8592-3a572b4b1abb"
      },
      "outputs": [
        {
          "output_type": "stream",
          "name": "stdout",
          "text": [
            "0 (0.6749043464660645s): -0.03490829949080944\n",
            "500 (74.31553483009338s): -26.01145487976074\n",
            "1000 (142.8601553440094s): -41.993974853515624\n",
            "1500 (211.9807252883911s): -48.28126016235352\n",
            "2000 (285.726450920105s): -54.663706787109376\n",
            "2500 (356.91866278648376s): -59.331869262695314\n",
            "3000 (429.0530695915222s): -64.89136978149413\n",
            "3500 (501.9082136154175s): -66.8564017944336\n",
            "4000 (574.1397924423218s): -69.93992919921875\n",
            "4500 (649.2152736186981s): -72.45507510375977\n"
          ]
        }
      ],
      "source": [
        "# start the training loop\n",
        "import time\n",
        "losses = []\n",
        "opt = torch.optim.Adam(score_network.parameters(), lr=3e-4)\n",
        "dloader = torch.utils.data.DataLoader(dset, batch_size=32, shuffle=True)\n",
        "t0 = time.time()\n",
        "for i_epoch in range(5000):\n",
        "    total_loss = 0\n",
        "    for data, in dloader:\n",
        "        opt.zero_grad()\n",
        "\n",
        "        # training step\n",
        "        loss = calc_loss(score_network, data)\n",
        "        loss.backward()\n",
        "        opt.step()\n",
        "        \n",
        "        # running stats\n",
        "        total_loss = total_loss + loss.detach().item() * data.shape[0]\n",
        "    \n",
        "    # print the training stats\n",
        "    if i_epoch % 500 == 0:\n",
        "        print(f\"{i_epoch} ({time.time() - t0}s): {total_loss / len(dset)}\")\n",
        "        losses.append(total_loss / len(dset))\n"
      ]
    },
    {
      "cell_type": "code",
      "source": [
        "plt.plot(range(0,len(losses)), losses)\n",
        "plt.xlabel(\"epochs\")\n",
        "plt.ylabel(\"loss\")\n",
        "plt.title(\"loss per epoch\")\n",
        "plt.show();"
      ],
      "metadata": {
        "colab": {
          "base_uri": "https://localhost:8080/",
          "height": 295
        },
        "id": "Ry2PuOsxkQj-",
        "outputId": "69816efc-1a51-417e-f6ba-664dfbe86170"
      },
      "execution_count": 6,
      "outputs": [
        {
          "output_type": "display_data",
          "data": {
            "text/plain": [
              "<Figure size 432x288 with 1 Axes>"
            ],
            "image/png": "[encoded data removed]"
          },
          "metadata": {
            "needs_background": "light"
          }
        }
      ]
    },
    {
      "cell_type": "code",
      "source": [
        "torch.save(score_network.state_dict(), 'ct_final_1.pth')"
      ],
      "metadata": {
        "id": "wU9uBkcZiZP0"
      },
      "execution_count": 7,
      "outputs": []
    },
    {
      "cell_type": "markdown",
      "metadata": {
        "id": "981_iagZilvD"
      },
      "source": [
        "# 1-5 Generation"
      ]
    },
    {
      "cell_type": "markdown",
      "metadata": {
        "id": "2RxLFiexRetw"
      },
      "source": [
        "Once the neural network is trained, we can generate the samples using Langevin dynamics.\n",
        "\n",
        "$$\\begin{equation}\n",
        "    \\mathbf{x}_{i + 1} = \\mathbf{x}_i + \\varepsilon \\nabla_\\mathbf{x}\\mathrm{log}\\ p(\\mathbf{x}) + \\sqrt{2\\varepsilon} \\mathbf{z}_i\n",
        "\\end{equation}$$\n",
        "\n",
        "where $\\mathbf{z}_i\\sim\\mathcal{N}(\\mathbf{0}, \\mathbf{I})$ is a random number sampled from the normal distribution."
      ]
    },
    {
      "cell_type": "code",
      "source": [
        "import numpy as np\n",
        "def generate_samples(score_net: torch.nn.Module, nsamples: int, eps: float = 0.001, nsteps: int = 100) -> torch.Tensor:\n",
        "     \n",
        "    ################################################################################\n",
        "    # TODO: complete the code here\n",
        "    # generate samples using Langevin dynamics and return samples\n",
        "    \n",
        "    x = torch.normal(0, 1 , size = (nsamples,2))\n",
        "    for n in range(nsteps):\n",
        "      z_t = torch.normal(0, 1 , size = (nsamples,2))\n",
        "      x = x + (eps * score_net(x) ) + (np.sqrt(2*eps) * z_t)\n",
        "    \n",
        "    return x\n",
        "    # End \n",
        "    ################################################################################\n",
        "\n",
        "samples = generate_samples(score_network, 1000).detach()\n",
        "    "
      ],
      "metadata": {
        "id": "-_UAvA85tSpw"
      },
      "execution_count": 8,
      "outputs": []
    },
    {
      "cell_type": "code",
      "execution_count": 9,
      "metadata": {
        "id": "PQFHHVzPhr4T",
        "colab": {
          "base_uri": "https://localhost:8080/",
          "height": 283
        },
        "outputId": "1927ccbb-b8f8-4ee4-c874-60b187332607"
      },
      "outputs": [
        {
          "output_type": "execute_result",
          "data": {
            "text/plain": [
              "[<matplotlib.lines.Line2D at 0x7fce9c0e75e0>]"
            ]
          },
          "metadata": {},
          "execution_count": 9
        },
        {
          "output_type": "display_data",
          "data": {
            "text/plain": [
              "<Figure size 432x288 with 1 Axes>"
            ],
            "image/png": "[encoded data removed]"
          },
          "metadata": {
            "needs_background": "light"
          }
        }
      ],
      "source": [
        "plt.plot(samples[:, 0], samples[:, 1], 'C1.')"
      ]
    },
    {
      "cell_type": "markdown",
      "metadata": {
        "id": "-YUpcwwqiufY"
      },
      "source": [
        "# Part 2: Denoising Score matching"
      ]
    },
    {
      "cell_type": "markdown",
      "metadata": {
        "id": "NWk4Al9DqwfS"
      },
      "source": [
        "# 2-1 Noise conditional Neural Network"
      ]
    },
    {
      "cell_type": "markdown",
      "metadata": {
        "id": "8-6-Z6XCqnHi"
      },
      "source": [
        "Now let’s define the neural network that will learn the score function. This is just a simple multi-layer perceptron with LogSigmoid activation function. In contrast to the previous part, the neural network here takes n+1 inputs and produces n outputs. The additional 1 input is for the noise in $t_i$"
      ]
    },
    {
      "cell_type": "code",
      "execution_count": null,
      "metadata": {
        "id": "Pqtu-X7kquPE"
      },
      "outputs": [],
      "source": [
        "# score_network takes input of 2 + 1 (noise) and returns the output of the same size (2)\n",
        "score_network = torch.nn.Sequential(\n",
        "    torch.nn.Linear(3, 64),\n",
        "    torch.nn.LogSigmoid(),\n",
        "    torch.nn.Linear(64, 64),\n",
        "    torch.nn.LogSigmoid(),\n",
        "    torch.nn.Linear(64, 64),\n",
        "    torch.nn.LogSigmoid(),\n",
        "    torch.nn.Linear(64, 2),\n",
        ")\n"
      ]
    },
    {
      "cell_type": "markdown",
      "metadata": {
        "id": "y8gvC5CSq0zq"
      },
      "source": [
        "# 2-3 Score Matching"
      ]
    },
    {
      "cell_type": "markdown",
      "metadata": {
        "id": "nMToZiyxq9N0"
      },
      "source": [
        "Now let's implement the first and second terms of the loss function below,\n",
        "$$\\begin{equation}\n",
        "\\mathcal{L}(\\theta) = \\frac{1}{L}\\sum_{i=1}^{L}{λ(σ_i)}\\mathbb{E}_{\\mathbf{x}\\sim p(\\mathbf{x}), \\mathbf{\\tilde{x}}\\sim q_{σ_i}(\\mathbf{\\tilde{x}|x})}\\left[\\frac{1}{2} \\left\\lVert\\mathbf{s_\\theta}(\\mathbf{\\tilde{x}, σ_i}) - \\nabla_\\mathbf{\\tilde{x}} \\mathbf{log q_{σ_i}}(\\mathbf{\\tilde{x}|x})\\right\\rVert^2\\right]\n",
        "\\end{equation}$$\n",
        "\n",
        "$$\\begin{equation}\n",
        "=\\frac{1}{L}\\sum_{i=1}^{L}\\mathbb{E}_{\\mathbf{x}\\sim p(\\mathbf{x}), \\mathbf{z}\\sim\\mathcal{N}(\\mathbf{0}, \\mathbf{I})}\\left[\\frac{1}{2} \\left\\lVert\\mathbf{\\sigma_i s_\\theta}(\\mathbf{x+σ_iz, σ_i})+ z\\right\\rVert^2\\right] + const.\n",
        "\\end{equation}$$\n"
      ]
    },
    {
      "cell_type": "code",
      "execution_count": null,
      "metadata": {
        "id": "bo84WqtawjYo"
      },
      "outputs": [],
      "source": [
        "sigmas = torch.linspace(0.001, 0.04, steps=1000)\n",
        "\n",
        "\n",
        "def calc_loss(score_network: torch.nn.Module, x: torch.Tensor) -> torch.Tensor:\n",
        "    # x: (batch_size, 2) is the training data\n",
        "    \n",
        "    # sample the time\n",
        "\n",
        "    ################################################################################\n",
        "    # TODO: complete the code here for computing denoising score matching L\n",
        "    \n",
        "    # use sigmas variable on top of funcion calc_loss to compute denoising score matching L\n",
        "    \n",
        "    z = torch.normal(0, 1 , size = (data.size(0),2))\n",
        "    perm = torch.randperm(sigmas.size(0))\n",
        "    idx = perm[:data.size(0)]\n",
        "    sigma = sigmas[idx].reshape((x.size(0),1))\n",
        "    L = torch.norm((sigma * score_network(torch.cat((data + sigma * z, sigma), 1)) + z), dim=-1)** 2 / 2.\n",
        "   \n",
        "  \n",
        "    return L.mean(-1)\n",
        "    # End (return loss)\n",
        "    ################################################################################\n"
      ]
    },
    {
      "cell_type": "markdown",
      "metadata": {
        "id": "dK07BcIAwtJ6"
      },
      "source": [
        "# 2-4 Training"
      ]
    },
    {
      "cell_type": "markdown",
      "metadata": {
        "id": "J34PmUN8xAh7"
      },
      "source": [
        "Everything’s ready, so we can start the training. It takes about 20 - 25 minutes to complete the training."
      ]
    },
    {
      "cell_type": "code",
      "execution_count": null,
      "metadata": {
        "id": "WF1S7gO2wpam",
        "colab": {
          "base_uri": "https://localhost:8080/"
        },
        "outputId": "99d2e016-f3d6-4be8-de8d-46dfbf7e41dc"
      },
      "outputs": [
        {
          "output_type": "stream",
          "name": "stdout",
          "text": [
            "0 (0.020824909210205078s): 1.0255581359863282\n",
            "10000 (118.04498839378357s): 0.9653635535240174\n",
            "20000 (294.98042273521423s): 0.9418165102005005\n",
            "30000 (468.1212315559387s): 1.005534345626831\n",
            "40000 (634.4655869007111s): 0.9615284471511841\n",
            "50000 (801.732382774353s): 0.9737320804595947\n",
            "60000 (968.8870463371277s): 0.9553116064071655\n",
            "70000 (1133.1938872337341s): 0.9388961472511291\n",
            "80000 (1293.0862724781036s): 0.9731570239067078\n",
            "90000 (1454.3460309505463s): 1.0024056372642518\n",
            "100000 (1611.457025527954s): 0.9394016885757446\n",
            "110000 (1768.6599657535553s): 0.9195040607452393\n",
            "120000 (1926.3183681964874s): 0.9730404138565063\n",
            "130000 (2082.3645815849304s): 0.9737058520317078\n",
            "140000 (2240.14604473114s): 0.9555389165878296\n"
          ]
        }
      ],
      "source": [
        "# start the training loop\n",
        "import time\n",
        "losses = []\n",
        "opt = torch.optim.Adam(score_network.parameters(), lr=3e-4)\n",
        "dloader = torch.utils.data.DataLoader(dset, batch_size=256, shuffle=True)\n",
        "t0 = time.time()\n",
        "for i_epoch in range(150000):\n",
        "    total_loss = 0\n",
        "    for data, in dloader:\n",
        "        opt.zero_grad()\n",
        "\n",
        "        # training step\n",
        "        loss = calc_loss(score_network, data)\n",
        "        loss.backward()\n",
        "        opt.step()\n",
        "        \n",
        "        # running stats\n",
        "        total_loss = total_loss + loss.detach().item() * data.shape[0]\n",
        "    \n",
        "    # print the training stats\n",
        "    if i_epoch % 10000 == 0:\n",
        "        print(f\"{i_epoch} ({time.time() - t0}s): {total_loss / len(dset)}\")\n",
        "        losses.append(total_loss / len(dset))\n"
      ]
    },
    {
      "cell_type": "code",
      "source": [
        "plt.plot(range(0,len(losses)), losses)\n",
        "plt.xlabel(\"epochs\")\n",
        "plt.ylabel(\"loss\")\n",
        "plt.title(\"loss per epoch\")\n",
        "plt.show();"
      ],
      "metadata": {
        "colab": {
          "base_uri": "https://localhost:8080/",
          "height": 295
        },
        "id": "ykZwjKF0jZRh",
        "outputId": "75a267c7-c911-401c-91af-7598eac7e0fd"
      },
      "execution_count": null,
      "outputs": [
        {
          "output_type": "display_data",
          "data": {
            "text/plain": [
              "<Figure size 432x288 with 1 Axes>"
            ],
            "image/png": "[encoded data removed]"
          },
          "metadata": {
            "needs_background": "light"
          }
        }
      ]
    },
    {
      "cell_type": "code",
      "source": [
        "torch.save(score_network.state_dict(), 'ct_final_2.pth')"
      ],
      "metadata": {
        "id": "gIROHTQ4Eb_L"
      },
      "execution_count": null,
      "outputs": []
    },
    {
      "cell_type": "code",
      "source": [
        "torch.save(score_network.state_dict(), 'ct3.pth')"
      ],
      "metadata": {
        "id": "NGpaAVrvgmq8"
      },
      "execution_count": null,
      "outputs": []
    },
    {
      "cell_type": "code",
      "source": [
        "load = torch.load(\"/content/ct3.pth\")"
      ],
      "metadata": {
        "id": "6R4IIfFYZvg2"
      },
      "execution_count": null,
      "outputs": []
    },
    {
      "cell_type": "code",
      "source": [
        "score_network.load_state_dict(load)"
      ],
      "metadata": {
        "colab": {
          "base_uri": "https://localhost:8080/"
        },
        "id": "cGvg7sW4Z2AE",
        "outputId": "bd3be4eb-b848-4d3a-e352-34d2d6175bc2"
      },
      "execution_count": null,
      "outputs": [
        {
          "output_type": "execute_result",
          "data": {
            "text/plain": [
              "<All keys matched successfully>"
            ]
          },
          "metadata": {},
          "execution_count": 5
        }
      ]
    },
    {
      "cell_type": "code",
      "source": [
        "sigmas = torch.linspace(0.001, 0.04, steps=1000)"
      ],
      "metadata": {
        "id": "oXLUmnZkaJE5"
      },
      "execution_count": null,
      "outputs": []
    },
    {
      "cell_type": "markdown",
      "metadata": {
        "id": "POWBC8SvxZKB"
      },
      "source": [
        "# 2-5 Generation"
      ]
    },
    {
      "cell_type": "markdown",
      "metadata": {
        "id": "H_hQLut3xbO-"
      },
      "source": [
        "Once the neural network is trained, we can generate the samples using Annealed Langevin dynamics.\n",
        "\n",
        "$$\\begin{equation}\n",
        "    \\mathbf{x}_{i + 1} = \\mathbf{x}_i + \\frac{α_i}{2}\\mathbf{s_\\theta}(\\mathbf{x+σ_iz, σ_i}) + \\sqrt{\\alpha_i}\\mathbf{z}_i\n",
        "\\end{equation}$$\n",
        "\n",
        "where $\\mathbf{z}_i\\sim\\mathcal{N}(\\mathbf{0}, \\mathbf{I})$ is a random number sampled from the normal distribution.\n",
        "\n",
        "and $\\mathbf{α_i=ϵ.\\frac{σ_i}{σ_L}}$\n",
        "\n",
        "\n"
      ]
    },
    {
      "cell_type": "code",
      "execution_count": null,
      "metadata": {
        "id": "-hRhdpbzxVhC"
      },
      "outputs": [],
      "source": [
        "reverse_sigmas = torch.flip(sigmas, dims=(0,))\n",
        "\n",
        "def generate_samples(score_network: torch.nn.Module, nsamples: int) -> torch.Tensor:\n",
        "\n",
        "    ################################################################################\n",
        "    # TODO: complete the code here\n",
        "    # generate samples using Annealed Langevin dynamics and return samples\n",
        "    \n",
        "    # use sigmas variable on top of funcion calc_loss to implement Annealed Langevin dynamics\n",
        "    x = torch.normal(0, 1 , size = (nsamples,2))\n",
        "    \n",
        "    #reverse_sigmas = torch.flip(sigmas, dims=(0,))\n",
        "\n",
        "    for s in range(reverse_sigmas.shape[0]):\n",
        "\n",
        "\n",
        "      alpha = (1/1000000) * ((reverse_sigmas[s]**2 )/(reverse_sigmas[-1]**2))\n",
        "      #print(alpha)\n",
        "      sigma = reverse_sigmas[s].expand(x.size(0)).reshape((x.size(0),1))\n",
        "      #print(\"sigma :\", sigma.shape)\n",
        "      z = torch.normal(0, 1 , size = (x.size(0),2))\n",
        "      #print(\"z :\",z)\n",
        "      #print(\"fff\",x + (sigma * z))\n",
        "      x = x + ((alpha/2) * score_network(torch.cat((x , sigma ), 1)) )+ (np.sqrt(alpha) * z )\n",
        "      #print(\"x ;\" ,x)\n",
        "       \n",
        "    return x\n",
        "    # End (return samples)\n",
        "    ################################################################################\n",
        "\n",
        "samples = generate_samples(score_network, 1000).detach()\n"
      ]
    },
    {
      "cell_type": "code",
      "source": [
        "plt.plot(samples[:, 0], samples[:, 1], 'C1.')"
      ],
      "metadata": {
        "colab": {
          "base_uri": "https://localhost:8080/",
          "height": 283
        },
        "id": "7_d82MElROeM",
        "outputId": "79fae92e-c6b9-42d5-bf34-6c668d10ddfd"
      },
      "execution_count": null,
      "outputs": [
        {
          "output_type": "execute_result",
          "data": {
            "text/plain": [
              "[<matplotlib.lines.Line2D at 0x7f26e9419e20>]"
            ]
          },
          "metadata": {},
          "execution_count": 15
        },
        {
          "output_type": "display_data",
          "data": {
            "text/plain": [
              "<Figure size 432x288 with 1 Axes>"
            ],
            "image/png": "[encoded data removed]"
          },
          "metadata": {
            "needs_background": "light"
          }
        }
      ]
    }
  ],
  "metadata": {
    "colab": {
      "provenance": []
    },
    "gpuClass": "standard",
    "kernelspec": {
      "display_name": "Python 3.8.10 64-bit",
      "language": "python",
      "name": "python3"
    },
    "language_info": {
      "name": "python",
      "version": "3.8.10"
    },
    "vscode": {
      "interpreter": {
        "hash": "916dbcbb3f70747c44a77c7bcd40155683ae19c65e1c03b4aa3499c5328201f1"
      }
    }
  },
  "nbformat": 4,
  "nbformat_minor": 0
}