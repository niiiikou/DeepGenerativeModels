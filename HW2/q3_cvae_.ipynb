{
  "cells": [
    {
      "cell_type": "markdown",
      "id": "233c7e79-d5e0-4684-9a34-71589234ed10",
      "metadata": {
        "id": "233c7e79-d5e0-4684-9a34-71589234ed10"
      },
      "source": [
        "### Setup\n",
        "\n",
        "If you want to write your own code and not follow this format, it is ok. Just make sure to use the same hyperparameters and models. If you see convergence sooner during the training, you may use fewer iterations."
      ]
    },
    {
      "cell_type": "code",
      "execution_count": 1,
      "id": "af462227-c6c5-4484-b6c9-527f3affafa8",
      "metadata": {
        "id": "af462227-c6c5-4484-b6c9-527f3affafa8"
      },
      "outputs": [],
      "source": [
        "import argparse\n",
        "import numpy as np\n",
        "from tqdm import tqdm\n",
        "from pprint import pprint\n",
        "from torchvision import datasets, transforms\n",
        "import torch\n",
        "import torch.nn.functional as F\n",
        "from torch import autograd, nn, optim\n",
        "from torch.nn import functional as F\n",
        "\n",
        "# Latent dimensions\n",
        "z = 10\n",
        "# Training iterations\n",
        "iter_max = 200\n",
        "# Batch size\n",
        "batch_size = 100\n",
        "# For the optimizer\n",
        "learning_rate = 1e-3\n",
        "\n",
        "device = torch.device('cuda' if torch.cuda.is_available() else 'cpu')\n"
      ]
    },
    {
      "cell_type": "markdown",
      "id": "9b8f37be-71b9-42d5-a055-81760ca991a1",
      "metadata": {
        "id": "9b8f37be-71b9-42d5-a055-81760ca991a1"
      },
      "source": [
        "### Load dataset"
      ]
    },
    {
      "cell_type": "code",
      "execution_count": 2,
      "id": "9f0cf280-eaba-4685-92ec-53274e179329",
      "metadata": {
        "colab": {
          "base_uri": "https://localhost:8080/",
          "height": 606,
          "referenced_widgets": [
            "6ec63472aa7a4833a3ad383cbc886ac9",
            "e55572d5a4ea49f4aa791db07d99cf1c",
            "1b14864179204d11918d0a59aabd6a76",
            "a3d8e1d3507b44788dc098aff404b2cc",
            "5edac5c03dce478391bba902c8d0d859",
            "9aaecdf0cf6548a4973f696d3c4c3aa9",
            "ef2ac5d6ea6d4c9ba7b437c2398bcab0",
            "a2f98538117d4f80b7e2d5b3fb4c51a1",
            "bb39fa4ee2a3452cadec46cfeb2b2f3b",
            "830186d39cb44155bef71729aad557dd",
            "005966b9b2a84fef89bc08536216a0ad",
            "81ff4c0b2df241e6a35ef26bec6da8ab",
            "6924c2550de74e21becdd75f4f3d5d72",
            "ed66e0503a5247b99027fce619ec15f3",
            "9be24e2204de47bea97bfa2952b16a8e",
            "3600872174264a33b5875df03c35d918",
            "b1323dbd06b94629b5e83667e9ae00e5",
            "6e7141fa0ed64768847eb388646de3ab",
            "ebe988eab754449c9eafd323f6cc3063",
            "67472ca8e18542acbf6e7caa8443446d",
            "3aa48f3f30ad484e9cda1e0e000f0137",
            "7dc0147c3a5841b2b157750641042299",
            "4a9c4428dd854d0fa3230e786808caa9",
            "8c17f139b7bb401f966394e1c1aef45f",
            "89d303b01cab4b60b7136b9b08c39b6b",
            "91d4b82f66d140bf8cfae7b507a9664b",
            "645fa12efd774021875b8faf1d182614",
            "a93337b8f679448ca23f3d41613c5573",
            "da2a86c1671f41adadcb41ae2e3d6f3a",
            "99f05b3e809c4af0b2cb49a722113e08",
            "af912289e9044360b4c83e53eff2220f",
            "72848e2a29a9400c8884674034f7f5c7",
            "5e5828d988b44bf195193f9aae15d984",
            "28d5b6fde6cc4709b92a87657fa1bf93",
            "66c6291f637e402483b4f513f428bb35",
            "8ad3e8edd5034fc6869e57f32273bea5",
            "622726e599b14206a9e5461a950b3336",
            "1adf14f0bbb840108338162d225b8f1a",
            "77745d32d38c4e29a844c9ef1c4dd447",
            "456616446b654f3695fad44d4cae5b4d",
            "0794dea890884952b30844fcf9493f90",
            "e5931b0454aa4189aef03cd20b2beccd",
            "ac5695335b3648e59c4f2e6ee48018f6",
            "7d11f1eea3ab4ee1995c0e39ead45f2a"
          ]
        },
        "id": "9f0cf280-eaba-4685-92ec-53274e179329",
        "outputId": "f58593fc-7c3e-4c14-dabe-62becb301786"
      },
      "outputs": [
        {
          "name": "stdout",
          "output_type": "stream",
          "text": [
            "Downloading http://yann.lecun.com/exdb/mnist/train-images-idx3-ubyte.gz\n",
            "Downloading http://yann.lecun.com/exdb/mnist/train-images-idx3-ubyte.gz to data/MNIST/raw/train-images-idx3-ubyte.gz\n"
          ]
        },
        {
          "data": {
            "application/vnd.jupyter.widget-view+json": {
              "model_id": "6ec63472aa7a4833a3ad383cbc886ac9",
              "version_major": 2,
              "version_minor": 0
            },
            "text/plain": [
              "  0%|          | 0/9912422 [00:00<?, ?it/s]"
            ]
          },
          "metadata": {},
          "output_type": "display_data"
        },
        {
          "name": "stdout",
          "output_type": "stream",
          "text": [
            "Extracting data/MNIST/raw/train-images-idx3-ubyte.gz to data/MNIST/raw\n",
            "\n",
            "Downloading http://yann.lecun.com/exdb/mnist/train-labels-idx1-ubyte.gz\n",
            "Downloading http://yann.lecun.com/exdb/mnist/train-labels-idx1-ubyte.gz to data/MNIST/raw/train-labels-idx1-ubyte.gz\n"
          ]
        },
        {
          "data": {
            "application/vnd.jupyter.widget-view+json": {
              "model_id": "81ff4c0b2df241e6a35ef26bec6da8ab",
              "version_major": 2,
              "version_minor": 0
            },
            "text/plain": [
              "  0%|          | 0/28881 [00:00<?, ?it/s]"
            ]
          },
          "metadata": {},
          "output_type": "display_data"
        },
        {
          "name": "stdout",
          "output_type": "stream",
          "text": [
            "Extracting data/MNIST/raw/train-labels-idx1-ubyte.gz to data/MNIST/raw\n",
            "\n",
            "Downloading http://yann.lecun.com/exdb/mnist/t10k-images-idx3-ubyte.gz\n",
            "Downloading http://yann.lecun.com/exdb/mnist/t10k-images-idx3-ubyte.gz to data/MNIST/raw/t10k-images-idx3-ubyte.gz\n"
          ]
        },
        {
          "data": {
            "application/vnd.jupyter.widget-view+json": {
              "model_id": "4a9c4428dd854d0fa3230e786808caa9",
              "version_major": 2,
              "version_minor": 0
            },
            "text/plain": [
              "  0%|          | 0/1648877 [00:00<?, ?it/s]"
            ]
          },
          "metadata": {},
          "output_type": "display_data"
        },
        {
          "name": "stdout",
          "output_type": "stream",
          "text": [
            "Extracting data/MNIST/raw/t10k-images-idx3-ubyte.gz to data/MNIST/raw\n",
            "\n",
            "Downloading http://yann.lecun.com/exdb/mnist/t10k-labels-idx1-ubyte.gz\n",
            "Downloading http://yann.lecun.com/exdb/mnist/t10k-labels-idx1-ubyte.gz to data/MNIST/raw/t10k-labels-idx1-ubyte.gz\n"
          ]
        },
        {
          "data": {
            "application/vnd.jupyter.widget-view+json": {
              "model_id": "28d5b6fde6cc4709b92a87657fa1bf93",
              "version_major": 2,
              "version_minor": 0
            },
            "text/plain": [
              "  0%|          | 0/4542 [00:00<?, ?it/s]"
            ]
          },
          "metadata": {},
          "output_type": "display_data"
        },
        {
          "name": "stdout",
          "output_type": "stream",
          "text": [
            "Extracting data/MNIST/raw/t10k-labels-idx1-ubyte.gz to data/MNIST/raw\n",
            "\n"
          ]
        },
        {
          "name": "stderr",
          "output_type": "stream",
          "text": [
            "/usr/local/lib/python3.8/dist-packages/torchvision/datasets/mnist.py:75: UserWarning: train_data has been renamed data\n",
            "  warnings.warn(\"train_data has been renamed data\")\n",
            "/usr/local/lib/python3.8/dist-packages/torchvision/datasets/mnist.py:65: UserWarning: train_labels has been renamed targets\n",
            "  warnings.warn(\"train_labels has been renamed targets\")\n",
            "/usr/local/lib/python3.8/dist-packages/torchvision/datasets/mnist.py:80: UserWarning: test_data has been renamed data\n",
            "  warnings.warn(\"test_data has been renamed data\")\n",
            "/usr/local/lib/python3.8/dist-packages/torchvision/datasets/mnist.py:70: UserWarning: test_labels has been renamed targets\n",
            "  warnings.warn(\"test_labels has been renamed targets\")\n"
          ]
        },
        {
          "data": {
            "text/plain": [
              "<torch.utils.data.dataloader.DataLoader at 0x7f374f8f2670>"
            ]
          },
          "execution_count": 2,
          "metadata": {},
          "output_type": "execute_result"
        }
      ],
      "source": [
        "def get_mnist_data(device, batch_size):\n",
        "    preprocess = transforms.ToTensor()\n",
        "    train_loader = torch.utils.data.DataLoader(\n",
        "        datasets.MNIST('data', train=True, download=True, transform=preprocess),\n",
        "        batch_size=batch_size,\n",
        "        shuffle=True)\n",
        "    test_loader = torch.utils.data.DataLoader(\n",
        "        datasets.MNIST('data', train=False, download=True, transform=preprocess),\n",
        "        batch_size=batch_size,\n",
        "        shuffle=True)\n",
        "\n",
        "    # Create pre-processed training and test sets\n",
        "    X_train = train_loader.dataset.train_data.to(device).reshape(-1, 784).float() / 255\n",
        "    y_train = train_loader.dataset.train_labels.to(device)\n",
        "    X_test = test_loader.dataset.test_data.to(device).reshape(-1, 784).float() / 255\n",
        "    y_test = test_loader.dataset.test_labels.to(device)\n",
        "\n",
        "    return train_loader, test_loader\n",
        "\n",
        "train_loader, test_loader = get_mnist_data(device, batch_size)\n",
        "train_loader"
      ]
    },
    {
      "cell_type": "markdown",
      "id": "e21d7c43",
      "metadata": {
        "id": "e21d7c43"
      },
      "source": [
        "### Utility Functions\n",
        "- Complete the code for the function ```sample_gaussian```"
      ]
    },
    {
      "cell_type": "code",
      "execution_count": 3,
      "id": "0bea31b7",
      "metadata": {
        "id": "0bea31b7"
      },
      "outputs": [],
      "source": [
        "def gaussian_parameters(h, dim=-1):\n",
        "    \"\"\"\n",
        "    Converts generic real-valued representations into mean and variance\n",
        "    parameters of a Gaussian distribution\n",
        "\n",
        "    Args:\n",
        "        h: tensor: (batch, ..., dim, ...): Arbitrary tensor\n",
        "        dim: int: (): Dimension along which to split the tensor for mean and\n",
        "            variance\n",
        "\n",
        "    Returns:\n",
        "        m: tensor: (batch, ..., dim / 2, ...): Mean\n",
        "        v: tensor: (batch, ..., dim / 2, ...): Variance\n",
        "    \"\"\"\n",
        "    m, h = torch.split(h, h.size(dim) // 2, dim=dim)\n",
        "    v = F.softplus(h) + 1e-8\n",
        "    return m, v\n",
        "\n",
        "\n",
        "def sample_gaussian(m, v):\n",
        "    \"\"\"\n",
        "    Element-wise application reparameterization trick to sample from Gaussian\n",
        "\n",
        "    Args:\n",
        "        m: tensor: (batch, ...): Mean\n",
        "        v: tensor: (batch, ...): Variance\n",
        "\n",
        "    Return:\n",
        "        z: tensor: (batch, ...): Samples\n",
        "    \"\"\"\n",
        "    ################################################################################\n",
        "    # TODO: complete the code here\n",
        "    # Task: Sample z\n",
        "    #std = torch.exp(0.5 * v)\n",
        "    eps = torch.randn_like(v)\n",
        "    z = eps * torch.sqrt(v) + m\n",
        "    # End \n",
        "    ################################################################################\n",
        "    \n",
        "    return z\n",
        "\n",
        "\n",
        "bce = torch.nn.BCEWithLogitsLoss(reduction='none')\n",
        "\n",
        "\n",
        "def log_bernoulli_with_logits(x, logits):\n",
        "    \"\"\"\n",
        "    Computes the log probability of a Bernoulli given its logits\n",
        "\n",
        "    Args:\n",
        "        x: tensor: (batch, dim): Observation\n",
        "        logits: tensor: (batch, dim): Bernoulli logits\n",
        "\n",
        "    Return:\n",
        "        log_prob: tensor: (batch,): log probability of each sample\n",
        "    \"\"\"\n",
        "    log_prob = -bce(input=logits, target=x).sum(-1)\n",
        "    return log_prob\n",
        "\n",
        "\n",
        "def kl_normal(qm, qv, pm, pv):\n",
        "    \"\"\"\n",
        "    Computes the elem-wise KL divergence between two normal distributions KL(q || p) and\n",
        "    sum over the last dimension\n",
        "\n",
        "    Args:\n",
        "        qm: tensor: (batch, dim): q mean\n",
        "        qv: tensor: (batch, dim): q variance\n",
        "        pm: tensor: (batch, dim): p mean\n",
        "        pv: tensor: (batch, dim): p variance\n",
        "\n",
        "    Return:\n",
        "        kl: tensor: (batch,): kl between each sample\n",
        "    \"\"\"\n",
        "    element_wise = 0.5 * (torch.log(pv) - torch.log(qv) + qv / pv + (qm - pm).pow(2) / pv - 1)\n",
        "    kl = element_wise.sum(-1)\n",
        "    return kl"
      ]
    },
    {
      "cell_type": "markdown",
      "id": "0a8745d4",
      "metadata": {
        "id": "0a8745d4"
      },
      "source": [
        "### Base Models"
      ]
    },
    {
      "cell_type": "code",
      "execution_count": 4,
      "id": "cf16d9b7",
      "metadata": {
        "id": "cf16d9b7"
      },
      "outputs": [],
      "source": [
        "class Encoder(nn.Module):\n",
        "    def __init__(self, z_dim, y_dim=10):\n",
        "        super().__init__()\n",
        "        self.z_dim = z_dim\n",
        "        self.y_dim = y_dim\n",
        "        self.net = nn.Sequential(\n",
        "            nn.Linear(784 + y_dim, 300),\n",
        "            nn.ELU(),\n",
        "            nn.Linear(300, 300),\n",
        "            nn.ELU(),\n",
        "            nn.Linear(300, 2 * z_dim),\n",
        "        )\n",
        "\n",
        "    def encode(self, x, y):\n",
        "        xy = x if y is None else torch.cat((x, y), dim=1)\n",
        "        h = self.net(xy)\n",
        "        m, v = gaussian_parameters(h, dim=1)\n",
        "        return m, v\n",
        "\n",
        "class Decoder(nn.Module):\n",
        "    def __init__(self, z_dim, y_dim=10):\n",
        "        super().__init__()\n",
        "        self.z_dim = z_dim\n",
        "        self.y_dim = y_dim\n",
        "        self.net = nn.Sequential(\n",
        "            nn.Linear(z_dim + y_dim, 300),\n",
        "            nn.ELU(),\n",
        "            nn.Linear(300, 300),\n",
        "            nn.ELU(),\n",
        "            nn.Linear(300, 784)\n",
        "        )\n",
        "\n",
        "    def decode(self, z, y):\n",
        "        zy = z if y is None else torch.cat((z, y), dim=1)\n",
        "        return self.net(zy)\n"
      ]
    },
    {
      "cell_type": "markdown",
      "id": "3db41efa",
      "metadata": {
        "id": "3db41efa"
      },
      "source": [
        "### VAE Model\n",
        "\n",
        "- Complete the function ```negative_elbo_bound```. Make sure to use functions provided in the ***Utility*** and ***Base Model*** sections for your benefit when completing the code."
      ]
    },
    {
      "cell_type": "code",
      "execution_count": 5,
      "id": "9aab515b",
      "metadata": {
        "id": "9aab515b"
      },
      "outputs": [],
      "source": [
        "\n",
        "\n",
        "class VAE(nn.Module):\n",
        "    def __init__(self, name='vae', z_dim=2):\n",
        "        super().__init__()\n",
        "        self.name = name\n",
        "        self.z_dim = z_dim\n",
        "\n",
        "        self.enc = Encoder(self.z_dim)\n",
        "        self.dec = Decoder(self.z_dim)\n",
        "\n",
        "        # Set prior as fixed parameter attached to Module\n",
        "        self.z_prior_m = torch.nn.Parameter(torch.zeros(1), requires_grad=False)\n",
        "        self.z_prior_v = torch.nn.Parameter(torch.ones(1), requires_grad=False)\n",
        "        self.z_prior = (self.z_prior_m, self.z_prior_v)\n",
        "\n",
        "    def negative_elbo_bound(self, x, y):\n",
        "        \"\"\"\n",
        "        Computes the Evidence Lower Bound, KL and, Reconstruction costs\n",
        "\n",
        "        Args:\n",
        "            x: tensor: (batch, dim): Observations\n",
        "\n",
        "        Returns:\n",
        "            nelbo: tensor: (): Negative evidence lower bound\n",
        "            kl: tensor: (): ELBO KL divergence to prior\n",
        "            rec: tensor: (): ELBO Reconstruction term\n",
        "        \"\"\"\n",
        "        ################################################################################\n",
        "        # TODO: complete the code here\n",
        "        # Task: Compute negative Evidence Lower Bound and its KL and Reconstruction term\n",
        "        # Note that nelbo = kl + rec\n",
        "        # Outputs should all be scalar\n",
        "        qm, qv = self.enc.encode(x, y)\n",
        "        pm, pv = self.z_prior\n",
        "        kl = kl_normal(qm, qv, pm, pv).mean()\n",
        "        z = sample_gaussian(qm, qv)\n",
        "        #x_reconstructed = self.compute_sigmoid_given(z)\n",
        "        x_reconstructed = self.dec.decode(z, y)\n",
        "        rec = -1 * (log_bernoulli_with_logits(x, x_reconstructed).mean())\n",
        "        nelbo = kl + rec\n",
        "        # End \n",
        "        ################################################################################\n",
        "        \n",
        "        return nelbo, kl, rec\n",
        "\n",
        "    \n",
        "    def loss(self, x, y):\n",
        "        nelbo, kl, rec = self.negative_elbo_bound(x, y)\n",
        "        loss = nelbo\n",
        "\n",
        "        summaries = dict((\n",
        "            ('train/loss', nelbo),\n",
        "            ('gen/elbo', -nelbo),\n",
        "            ('gen/kl_z', kl),\n",
        "            ('gen/rec', rec),\n",
        "        ))\n",
        "\n",
        "        return loss, summaries\n",
        "\n",
        "    def sample_sigmoid(self, batch, y):\n",
        "        z = self.sample_z(batch)\n",
        "        return self.compute_sigmoid_given(z, y)\n",
        "\n",
        "    def compute_sigmoid_given(self, z, y):\n",
        "        logits = self.dec.decode(z, y)\n",
        "        return torch.sigmoid(logits)\n",
        "\n",
        "    def sample_z(self, batch):\n",
        "        return sample_gaussian(\n",
        "            self.z_prior[0].expand(batch, self.z_dim),\n",
        "            self.z_prior[1].expand(batch, self.z_dim))\n",
        "\n",
        "    def sample_x(self, batch, y):\n",
        "        z = self.sample_z(batch)\n",
        "        return self.sample_x_given(z, y)\n",
        "\n",
        "    def sample_x_given(self, z, y):\n",
        "        return torch.bernoulli(self.compute_sigmoid_given(z, y))\n"
      ]
    },
    {
      "cell_type": "markdown",
      "id": "9063db87",
      "metadata": {
        "id": "9063db87"
      },
      "source": [
        "### Run model\n",
        "\n",
        "- You will probably need to add some lines to this code. (Add test set, save statistics and plot, ...)\n",
        "\n",
        "Note that Negative ELBO on the test set should be around 100. "
      ]
    },
    {
      "cell_type": "code",
      "execution_count": 6,
      "id": "e5VI6m40cKlZ",
      "metadata": {
        "colab": {
          "base_uri": "https://localhost:8080/"
        },
        "id": "e5VI6m40cKlZ",
        "outputId": "2e1b7636-43e2-4dd7-ca5e-4c0f2af09eee"
      },
      "outputs": [
        {
          "name": "stderr",
          "output_type": "stream",
          "text": [
            "100%|██████████| 200/200 [26:50<00:00,  8.05s/it]\n"
          ]
        }
      ],
      "source": [
        "log_dict = {'train_negative_elbo': [],\n",
        "                'train_reconstruction_loss': [],\n",
        "                'train_kl_loss': []}\n",
        "log_dict_test = {'test_negative_elbo': [],\n",
        "                'test_reconstruction_loss': [],\n",
        "                'test_kl_loss': []}\n",
        "vae = VAE(z_dim=z).to(device)\n",
        "optimizer = optim.Adam(vae.parameters(), lr=learning_rate)\n",
        "\n",
        "for i in tqdm(range(iter_max)):\n",
        "    for batch_idx, (xu, yu) in enumerate(train_loader):\n",
        "            \n",
        "        optimizer.zero_grad()\n",
        "\n",
        "        xu = torch.bernoulli(xu.to(device).reshape(xu.size(0), -1))\n",
        "        yu = yu.new(np.eye(10)[yu]).to(device).float()\n",
        "        loss, summaries = vae.loss(xu, yu)\n",
        "\n",
        "        loss.backward()\n",
        "        optimizer.step()\n",
        "        \n",
        "    #print(summaries['train/loss'])\n",
        "    \n",
        "    ################################################################################\n",
        "    # TODO: complete the code here\n",
        "    # report the loss terms across time for train and validation datasets\n",
        "    #\n",
        "    # You can choose to only perform validation once in every 10 (Or any other number \n",
        "    # depending on the speed of the algorithm on your machine) iterations and display  \n",
        "    # the training and validation statistics on those iterataions.\n",
        "\n",
        "    # LOGGING\n",
        "    log_dict['train_negative_elbo'].append(summaries['train/loss'].item())\n",
        "    log_dict['train_reconstruction_loss'].append(summaries['gen/rec'].item())\n",
        "    log_dict['train_kl_loss'].append(summaries['gen/kl_z'].item())\n",
        "\n",
        "    #print('train***Epoch:  , Loss: ,reconstruction_loss  ,kl_loss : ', (i+1, summaries['train/loss'].item(),summaries['gen/rec'].item(),summaries['gen/kl_z'].item()))\n",
        "\n",
        "    #evalution\n",
        "\n",
        "    with torch.no_grad():\n",
        "      for batch_idx, (xu, yu) in enumerate(test_loader):\n",
        "        xu = torch.bernoulli(xu.to(device).reshape(xu.size(0), -1))\n",
        "        yu = yu.new(np.eye(10)[yu]).to(device).float()\n",
        "        loss_test, summaries_test = vae.loss(xu, yu)\n",
        "\n",
        "\n",
        "    log_dict_test['test_negative_elbo'].append(summaries_test['train/loss'].item())\n",
        "    log_dict_test['test_reconstruction_loss'].append(summaries_test['gen/rec'].item())\n",
        "    log_dict_test['test_kl_loss'].append(summaries_test['gen/kl_z'].item())\n",
        "\n",
        "    #print('\\ntest***Epoch:  , Loss: ,reconstruction_loss  ,kl_loss : ', (i+1, summaries_test['train/loss'].item(),summaries_test['gen/rec'].item(),summaries_test['gen/kl_z'].item()))\n",
        "    # End\n",
        "    ################################################################################"
      ]
    },
    {
      "cell_type": "code",
      "execution_count": 20,
      "id": "RyaljBBrKJ7U",
      "metadata": {
        "id": "RyaljBBrKJ7U"
      },
      "outputs": [],
      "source": [
        "from mpl_toolkits.axes_grid1 import ImageGrid\n",
        "import matplotlib.pyplot as plt\n",
        "\n",
        "def make_gridd(a,axes_size):\n",
        "  l, r = axes_size\n",
        "  b = list(a.cpu())\n",
        "  fig = plt.figure(figsize=(5., 5.))\n",
        "  grid = ImageGrid(fig, 111,  # similar to subplot(111)\n",
        "                  nrows_ncols=(l, r),  # creates axes_size*axes_size grid of axes\n",
        "                  axes_pad=0,  # pad between axes in inch.\n",
        "                  )\n",
        "\n",
        "  for ax, im in zip(grid, b):\n",
        "      # Iterating over the grid returns the Axes.\n",
        "      ax.imshow(im.reshape(28,28).detach().numpy())\n",
        "      ax.axis(\"off\")\n",
        "  plt.show()"
      ]
    },
    {
      "cell_type": "code",
      "execution_count": 21,
      "id": "84arsaVtjR9e",
      "metadata": {
        "id": "84arsaVtjR9e"
      },
      "outputs": [],
      "source": [
        "def cpred (vae, n_sample, number_label, axes_size):\n",
        "  l = number_label * torch.ones(n_sample).int()\n",
        "  y = l.new(np.eye(10)[l]).to(device)\n",
        "  f  = vae.sample_x(n_sample,y)\n",
        "  img_gen = vae.sample_x(n_sample, y)\n",
        "  make_gridd(img_gen,axes_size)\n",
        "  "
      ]
    },
    {
      "cell_type": "code",
      "execution_count": 43,
      "id": "8cvLjR9iTa82",
      "metadata": {
        "colab": {
          "base_uri": "https://localhost:8080/",
          "height": 124
        },
        "id": "8cvLjR9iTa82",
        "outputId": "278360e8-6010-42a5-dcc4-61284098efeb"
      },
      "outputs": [
        {
          "data": {
            "image/png": "[encoded data removed]",
            "text/plain": [
              "<Figure size 360x360 with 6 Axes>"
            ]
          },
          "metadata": {
            "needs_background": "light"
          },
          "output_type": "display_data"
        }
      ],
      "source": [
        "cpred (vae, 3, 0, (1,3))"
      ]
    },
    {
      "cell_type": "code",
      "execution_count": 44,
      "id": "vh5rppxXTcnv",
      "metadata": {
        "colab": {
          "base_uri": "https://localhost:8080/",
          "height": 124
        },
        "id": "vh5rppxXTcnv",
        "outputId": "bcb1fbcf-15f4-45c2-df2b-c80509e80594"
      },
      "outputs": [
        {
          "data": {
            "image/png": "[encoded data removed]",
            "text/plain": [
              "<Figure size 360x360 with 6 Axes>"
            ]
          },
          "metadata": {
            "needs_background": "light"
          },
          "output_type": "display_data"
        }
      ],
      "source": [
        "cpred (vae, 3, 1, (1,3))"
      ]
    },
    {
      "cell_type": "code",
      "execution_count": 45,
      "id": "Q3zGQCvfRzc4",
      "metadata": {
        "colab": {
          "base_uri": "https://localhost:8080/",
          "height": 124
        },
        "id": "Q3zGQCvfRzc4",
        "outputId": "a917b9db-2956-4ee1-bbaa-bec98ba7be87"
      },
      "outputs": [
        {
          "data": {
            "image/png": "[encoded data removed]",
            "text/plain": [
              "<Figure size 360x360 with 6 Axes>"
            ]
          },
          "metadata": {
            "needs_background": "light"
          },
          "output_type": "display_data"
        }
      ],
      "source": [
        "cpred (vae, 3, 2, (1,3))"
      ]
    },
    {
      "cell_type": "code",
      "execution_count": 46,
      "id": "SIY5wYn-Tg6d",
      "metadata": {
        "colab": {
          "base_uri": "https://localhost:8080/",
          "height": 124
        },
        "id": "SIY5wYn-Tg6d",
        "outputId": "79244446-a934-4f30-8926-cd731f860fc5"
      },
      "outputs": [
        {
          "data": {
            "image/png": "[encoded data removed]",
            "text/plain": [
              "<Figure size 360x360 with 6 Axes>"
            ]
          },
          "metadata": {
            "needs_background": "light"
          },
          "output_type": "display_data"
        }
      ],
      "source": [
        "cpred (vae, 3, 3, (1,3))"
      ]
    },
    {
      "cell_type": "code",
      "execution_count": 47,
      "id": "fPIOglgLSUOM",
      "metadata": {
        "colab": {
          "base_uri": "https://localhost:8080/",
          "height": 124
        },
        "id": "fPIOglgLSUOM",
        "outputId": "98b7d506-7804-4cb1-e3eb-fd0b11812f51"
      },
      "outputs": [
        {
          "data": {
            "image/png": "[encoded data removed]",
            "text/plain": [
              "<Figure size 360x360 with 6 Axes>"
            ]
          },
          "metadata": {
            "needs_background": "light"
          },
          "output_type": "display_data"
        }
      ],
      "source": [
        "cpred (vae, 3, 4, (1,3))"
      ]
    },
    {
      "cell_type": "code",
      "execution_count": 48,
      "id": "hrNYqW6VTi7m",
      "metadata": {
        "colab": {
          "base_uri": "https://localhost:8080/",
          "height": 124
        },
        "id": "hrNYqW6VTi7m",
        "outputId": "ca337617-dd85-4fc9-a780-ebcc6ade2f75"
      },
      "outputs": [
        {
          "data": {
            "image/png": "[encoded data removed]",
            "text/plain": [
              "<Figure size 360x360 with 6 Axes>"
            ]
          },
          "metadata": {
            "needs_background": "light"
          },
          "output_type": "display_data"
        }
      ],
      "source": [
        "cpred (vae, 3, 5, (1,3))"
      ]
    },
    {
      "cell_type": "code",
      "execution_count": 49,
      "id": "OlHblUzISWjq",
      "metadata": {
        "colab": {
          "base_uri": "https://localhost:8080/",
          "height": 124
        },
        "id": "OlHblUzISWjq",
        "outputId": "b732b9eb-800e-4c18-82fa-aebcf5511e8a"
      },
      "outputs": [
        {
          "data": {
            "image/png": "[encoded data removed]",
            "text/plain": [
              "<Figure size 360x360 with 6 Axes>"
            ]
          },
          "metadata": {
            "needs_background": "light"
          },
          "output_type": "display_data"
        }
      ],
      "source": [
        "cpred (vae, 3, 6, (1,3))"
      ]
    },
    {
      "cell_type": "code",
      "execution_count": 50,
      "id": "waZKgryQTk4U",
      "metadata": {
        "colab": {
          "base_uri": "https://localhost:8080/",
          "height": 124
        },
        "id": "waZKgryQTk4U",
        "outputId": "5a53a997-1e76-4d67-84e6-43b4ed4c6077"
      },
      "outputs": [
        {
          "data": {
            "image/png": "[encoded data removed]",
            "text/plain": [
              "<Figure size 360x360 with 6 Axes>"
            ]
          },
          "metadata": {
            "needs_background": "light"
          },
          "output_type": "display_data"
        }
      ],
      "source": [
        "cpred (vae, 3, 7, (1,3))"
      ]
    },
    {
      "cell_type": "code",
      "execution_count": 51,
      "id": "S77akLxETkxS",
      "metadata": {
        "colab": {
          "base_uri": "https://localhost:8080/",
          "height": 124
        },
        "id": "S77akLxETkxS",
        "outputId": "545b438d-d680-412c-bf3d-2b1908b8b8eb"
      },
      "outputs": [
        {
          "data": {
            "image/png": "[encoded data removed]",
            "text/plain": [
              "<Figure size 360x360 with 6 Axes>"
            ]
          },
          "metadata": {
            "needs_background": "light"
          },
          "output_type": "display_data"
        }
      ],
      "source": [
        "cpred (vae, 3, 8, (1,3))"
      ]
    },
    {
      "cell_type": "code",
      "execution_count": 52,
      "id": "v0GmUKGeTl9d",
      "metadata": {
        "colab": {
          "base_uri": "https://localhost:8080/",
          "height": 124
        },
        "id": "v0GmUKGeTl9d",
        "outputId": "14da5fd7-2ad1-48f5-abdf-b4f8487a0796"
      },
      "outputs": [
        {
          "data": {
            "image/png": "[encoded data removed]",
            "text/plain": [
              "<Figure size 360x360 with 6 Axes>"
            ]
          },
          "metadata": {
            "needs_background": "light"
          },
          "output_type": "display_data"
        }
      ],
      "source": [
        "cpred (vae, 3, 9, (1,3))"
      ]
    }
  ],
  "metadata": {
    "accelerator": "GPU",
    "colab": {
      "provenance": []
    },
    "gpuClass": "standard",
    "kernelspec": {
      "display_name": "Python 3 (ipykernel)",
      "language": "python",
      "name": "python3"
    },
    "language_info": {
      "codemirror_mode": {
        "name": "ipython",
        "version": 3
      },
      "file_extension": ".py",
      "mimetype": "text/x-python",
      "name": "python",
      "nbconvert_exporter": "python",
      "pygments_lexer": "ipython3",
      "version": "3.8.12"
    },
    "widgets": {
      "application/vnd.jupyter.widget-state+json": {
        "005966b9b2a84fef89bc08536216a0ad": {
          "model_module": "@jupyter-widgets/controls",
          "model_module_version": "1.5.0",
          "model_name": "DescriptionStyleModel",
          "state": {
            "_model_module": "@jupyter-widgets/controls",
            "_model_module_version": "1.5.0",
            "_model_name": "DescriptionStyleModel",
            "_view_count": null,
            "_view_module": "@jupyter-widgets/base",
            "_view_module_version": "1.2.0",
            "_view_name": "StyleView",
            "description_width": ""
          }
        },
        "0794dea890884952b30844fcf9493f90": {
          "model_module": "@jupyter-widgets/base",
          "model_module_version": "1.2.0",
          "model_name": "LayoutModel",
          "state": {
            "_model_module": "@jupyter-widgets/base",
            "_model_module_version": "1.2.0",
            "_model_name": "LayoutModel",
            "_view_count": null,
            "_view_module": "@jupyter-widgets/base",
            "_view_module_version": "1.2.0",
            "_view_name": "LayoutView",
            "align_content": null,
            "align_items": null,
            "align_self": null,
            "border": null,
            "bottom": null,
            "display": null,
            "flex": null,
            "flex_flow": null,
            "grid_area": null,
            "grid_auto_columns": null,
            "grid_auto_flow": null,
            "grid_auto_rows": null,
            "grid_column": null,
            "grid_gap": null,
            "grid_row": null,
            "grid_template_areas": null,
            "grid_template_columns": null,
            "grid_template_rows": null,
            "height": null,
            "justify_content": null,
            "justify_items": null,
            "left": null,
            "margin": null,
            "max_height": null,
            "max_width": null,
            "min_height": null,
            "min_width": null,
            "object_fit": null,
            "object_position": null,
            "order": null,
            "overflow": null,
            "overflow_x": null,
            "overflow_y": null,
            "padding": null,
            "right": null,
            "top": null,
            "visibility": null,
            "width": null
          }
        },
        "1adf14f0bbb840108338162d225b8f1a": {
          "model_module": "@jupyter-widgets/base",
          "model_module_version": "1.2.0",
          "model_name": "LayoutModel",
          "state": {
            "_model_module": "@jupyter-widgets/base",
            "_model_module_version": "1.2.0",
            "_model_name": "LayoutModel",
            "_view_count": null,
            "_view_module": "@jupyter-widgets/base",
            "_view_module_version": "1.2.0",
            "_view_name": "LayoutView",
            "align_content": null,
            "align_items": null,
            "align_self": null,
            "border": null,
            "bottom": null,
            "display": null,
            "flex": null,
            "flex_flow": null,
            "grid_area": null,
            "grid_auto_columns": null,
            "grid_auto_flow": null,
            "grid_auto_rows": null,
            "grid_column": null,
            "grid_gap": null,
            "grid_row": null,
            "grid_template_areas": null,
            "grid_template_columns": null,
            "grid_template_rows": null,
            "height": null,
            "justify_content": null,
            "justify_items": null,
            "left": null,
            "margin": null,
            "max_height": null,
            "max_width": null,
            "min_height": null,
            "min_width": null,
            "object_fit": null,
            "object_position": null,
            "order": null,
            "overflow": null,
            "overflow_x": null,
            "overflow_y": null,
            "padding": null,
            "right": null,
            "top": null,
            "visibility": null,
            "width": null
          }
        },
        "1b14864179204d11918d0a59aabd6a76": {
          "model_module": "@jupyter-widgets/controls",
          "model_module_version": "1.5.0",
          "model_name": "FloatProgressModel",
          "state": {
            "_dom_classes": [],
            "_model_module": "@jupyter-widgets/controls",
            "_model_module_version": "1.5.0",
            "_model_name": "FloatProgressModel",
            "_view_count": null,
            "_view_module": "@jupyter-widgets/controls",
            "_view_module_version": "1.5.0",
            "_view_name": "ProgressView",
            "bar_style": "success",
            "description": "",
            "description_tooltip": null,
            "layout": "IPY_MODEL_a2f98538117d4f80b7e2d5b3fb4c51a1",
            "max": 9912422,
            "min": 0,
            "orientation": "horizontal",
            "style": "IPY_MODEL_bb39fa4ee2a3452cadec46cfeb2b2f3b",
            "value": 9912422
          }
        },
        "28d5b6fde6cc4709b92a87657fa1bf93": {
          "model_module": "@jupyter-widgets/controls",
          "model_module_version": "1.5.0",
          "model_name": "HBoxModel",
          "state": {
            "_dom_classes": [],
            "_model_module": "@jupyter-widgets/controls",
            "_model_module_version": "1.5.0",
            "_model_name": "HBoxModel",
            "_view_count": null,
            "_view_module": "@jupyter-widgets/controls",
            "_view_module_version": "1.5.0",
            "_view_name": "HBoxView",
            "box_style": "",
            "children": [
              "IPY_MODEL_66c6291f637e402483b4f513f428bb35",
              "IPY_MODEL_8ad3e8edd5034fc6869e57f32273bea5",
              "IPY_MODEL_622726e599b14206a9e5461a950b3336"
            ],
            "layout": "IPY_MODEL_1adf14f0bbb840108338162d225b8f1a"
          }
        },
        "3600872174264a33b5875df03c35d918": {
          "model_module": "@jupyter-widgets/base",
          "model_module_version": "1.2.0",
          "model_name": "LayoutModel",
          "state": {
            "_model_module": "@jupyter-widgets/base",
            "_model_module_version": "1.2.0",
            "_model_name": "LayoutModel",
            "_view_count": null,
            "_view_module": "@jupyter-widgets/base",
            "_view_module_version": "1.2.0",
            "_view_name": "LayoutView",
            "align_content": null,
            "align_items": null,
            "align_self": null,
            "border": null,
            "bottom": null,
            "display": null,
            "flex": null,
            "flex_flow": null,
            "grid_area": null,
            "grid_auto_columns": null,
            "grid_auto_flow": null,
            "grid_auto_rows": null,
            "grid_column": null,
            "grid_gap": null,
            "grid_row": null,
            "grid_template_areas": null,
            "grid_template_columns": null,
            "grid_template_rows": null,
            "height": null,
            "justify_content": null,
            "justify_items": null,
            "left": null,
            "margin": null,
            "max_height": null,
            "max_width": null,
            "min_height": null,
            "min_width": null,
            "object_fit": null,
            "object_position": null,
            "order": null,
            "overflow": null,
            "overflow_x": null,
            "overflow_y": null,
            "padding": null,
            "right": null,
            "top": null,
            "visibility": null,
            "width": null
          }
        },
        "3aa48f3f30ad484e9cda1e0e000f0137": {
          "model_module": "@jupyter-widgets/base",
          "model_module_version": "1.2.0",
          "model_name": "LayoutModel",
          "state": {
            "_model_module": "@jupyter-widgets/base",
            "_model_module_version": "1.2.0",
            "_model_name": "LayoutModel",
            "_view_count": null,
            "_view_module": "@jupyter-widgets/base",
            "_view_module_version": "1.2.0",
            "_view_name": "LayoutView",
            "align_content": null,
            "align_items": null,
            "align_self": null,
            "border": null,
            "bottom": null,
            "display": null,
            "flex": null,
            "flex_flow": null,
            "grid_area": null,
            "grid_auto_columns": null,
            "grid_auto_flow": null,
            "grid_auto_rows": null,
            "grid_column": null,
            "grid_gap": null,
            "grid_row": null,
            "grid_template_areas": null,
            "grid_template_columns": null,
            "grid_template_rows": null,
            "height": null,
            "justify_content": null,
            "justify_items": null,
            "left": null,
            "margin": null,
            "max_height": null,
            "max_width": null,
            "min_height": null,
            "min_width": null,
            "object_fit": null,
            "object_position": null,
            "order": null,
            "overflow": null,
            "overflow_x": null,
            "overflow_y": null,
            "padding": null,
            "right": null,
            "top": null,
            "visibility": null,
            "width": null
          }
        },
        "456616446b654f3695fad44d4cae5b4d": {
          "model_module": "@jupyter-widgets/controls",
          "model_module_version": "1.5.0",
          "model_name": "DescriptionStyleModel",
          "state": {
            "_model_module": "@jupyter-widgets/controls",
            "_model_module_version": "1.5.0",
            "_model_name": "DescriptionStyleModel",
            "_view_count": null,
            "_view_module": "@jupyter-widgets/base",
            "_view_module_version": "1.2.0",
            "_view_name": "StyleView",
            "description_width": ""
          }
        },
        "4a9c4428dd854d0fa3230e786808caa9": {
          "model_module": "@jupyter-widgets/controls",
          "model_module_version": "1.5.0",
          "model_name": "HBoxModel",
          "state": {
            "_dom_classes": [],
            "_model_module": "@jupyter-widgets/controls",
            "_model_module_version": "1.5.0",
            "_model_name": "HBoxModel",
            "_view_count": null,
            "_view_module": "@jupyter-widgets/controls",
            "_view_module_version": "1.5.0",
            "_view_name": "HBoxView",
            "box_style": "",
            "children": [
              "IPY_MODEL_8c17f139b7bb401f966394e1c1aef45f",
              "IPY_MODEL_89d303b01cab4b60b7136b9b08c39b6b",
              "IPY_MODEL_91d4b82f66d140bf8cfae7b507a9664b"
            ],
            "layout": "IPY_MODEL_645fa12efd774021875b8faf1d182614"
          }
        },
        "5e5828d988b44bf195193f9aae15d984": {
          "model_module": "@jupyter-widgets/controls",
          "model_module_version": "1.5.0",
          "model_name": "DescriptionStyleModel",
          "state": {
            "_model_module": "@jupyter-widgets/controls",
            "_model_module_version": "1.5.0",
            "_model_name": "DescriptionStyleModel",
            "_view_count": null,
            "_view_module": "@jupyter-widgets/base",
            "_view_module_version": "1.2.0",
            "_view_name": "StyleView",
            "description_width": ""
          }
        },
        "5edac5c03dce478391bba902c8d0d859": {
          "model_module": "@jupyter-widgets/base",
          "model_module_version": "1.2.0",
          "model_name": "LayoutModel",
          "state": {
            "_model_module": "@jupyter-widgets/base",
            "_model_module_version": "1.2.0",
            "_model_name": "LayoutModel",
            "_view_count": null,
            "_view_module": "@jupyter-widgets/base",
            "_view_module_version": "1.2.0",
            "_view_name": "LayoutView",
            "align_content": null,
            "align_items": null,
            "align_self": null,
            "border": null,
            "bottom": null,
            "display": null,
            "flex": null,
            "flex_flow": null,
            "grid_area": null,
            "grid_auto_columns": null,
            "grid_auto_flow": null,
            "grid_auto_rows": null,
            "grid_column": null,
            "grid_gap": null,
            "grid_row": null,
            "grid_template_areas": null,
            "grid_template_columns": null,
            "grid_template_rows": null,
            "height": null,
            "justify_content": null,
            "justify_items": null,
            "left": null,
            "margin": null,
            "max_height": null,
            "max_width": null,
            "min_height": null,
            "min_width": null,
            "object_fit": null,
            "object_position": null,
            "order": null,
            "overflow": null,
            "overflow_x": null,
            "overflow_y": null,
            "padding": null,
            "right": null,
            "top": null,
            "visibility": null,
            "width": null
          }
        },
        "622726e599b14206a9e5461a950b3336": {
          "model_module": "@jupyter-widgets/controls",
          "model_module_version": "1.5.0",
          "model_name": "HTMLModel",
          "state": {
            "_dom_classes": [],
            "_model_module": "@jupyter-widgets/controls",
            "_model_module_version": "1.5.0",
            "_model_name": "HTMLModel",
            "_view_count": null,
            "_view_module": "@jupyter-widgets/controls",
            "_view_module_version": "1.5.0",
            "_view_name": "HTMLView",
            "description": "",
            "description_tooltip": null,
            "layout": "IPY_MODEL_ac5695335b3648e59c4f2e6ee48018f6",
            "placeholder": "​",
            "style": "IPY_MODEL_7d11f1eea3ab4ee1995c0e39ead45f2a",
            "value": " 4542/4542 [00:00&lt;00:00, 97790.30it/s]"
          }
        },
        "645fa12efd774021875b8faf1d182614": {
          "model_module": "@jupyter-widgets/base",
          "model_module_version": "1.2.0",
          "model_name": "LayoutModel",
          "state": {
            "_model_module": "@jupyter-widgets/base",
            "_model_module_version": "1.2.0",
            "_model_name": "LayoutModel",
            "_view_count": null,
            "_view_module": "@jupyter-widgets/base",
            "_view_module_version": "1.2.0",
            "_view_name": "LayoutView",
            "align_content": null,
            "align_items": null,
            "align_self": null,
            "border": null,
            "bottom": null,
            "display": null,
            "flex": null,
            "flex_flow": null,
            "grid_area": null,
            "grid_auto_columns": null,
            "grid_auto_flow": null,
            "grid_auto_rows": null,
            "grid_column": null,
            "grid_gap": null,
            "grid_row": null,
            "grid_template_areas": null,
            "grid_template_columns": null,
            "grid_template_rows": null,
            "height": null,
            "justify_content": null,
            "justify_items": null,
            "left": null,
            "margin": null,
            "max_height": null,
            "max_width": null,
            "min_height": null,
            "min_width": null,
            "object_fit": null,
            "object_position": null,
            "order": null,
            "overflow": null,
            "overflow_x": null,
            "overflow_y": null,
            "padding": null,
            "right": null,
            "top": null,
            "visibility": null,
            "width": null
          }
        },
        "66c6291f637e402483b4f513f428bb35": {
          "model_module": "@jupyter-widgets/controls",
          "model_module_version": "1.5.0",
          "model_name": "HTMLModel",
          "state": {
            "_dom_classes": [],
            "_model_module": "@jupyter-widgets/controls",
            "_model_module_version": "1.5.0",
            "_model_name": "HTMLModel",
            "_view_count": null,
            "_view_module": "@jupyter-widgets/controls",
            "_view_module_version": "1.5.0",
            "_view_name": "HTMLView",
            "description": "",
            "description_tooltip": null,
            "layout": "IPY_MODEL_77745d32d38c4e29a844c9ef1c4dd447",
            "placeholder": "​",
            "style": "IPY_MODEL_456616446b654f3695fad44d4cae5b4d",
            "value": "100%"
          }
        },
        "67472ca8e18542acbf6e7caa8443446d": {
          "model_module": "@jupyter-widgets/controls",
          "model_module_version": "1.5.0",
          "model_name": "ProgressStyleModel",
          "state": {
            "_model_module": "@jupyter-widgets/controls",
            "_model_module_version": "1.5.0",
            "_model_name": "ProgressStyleModel",
            "_view_count": null,
            "_view_module": "@jupyter-widgets/base",
            "_view_module_version": "1.2.0",
            "_view_name": "StyleView",
            "bar_color": null,
            "description_width": ""
          }
        },
        "6924c2550de74e21becdd75f4f3d5d72": {
          "model_module": "@jupyter-widgets/controls",
          "model_module_version": "1.5.0",
          "model_name": "HTMLModel",
          "state": {
            "_dom_classes": [],
            "_model_module": "@jupyter-widgets/controls",
            "_model_module_version": "1.5.0",
            "_model_name": "HTMLModel",
            "_view_count": null,
            "_view_module": "@jupyter-widgets/controls",
            "_view_module_version": "1.5.0",
            "_view_name": "HTMLView",
            "description": "",
            "description_tooltip": null,
            "layout": "IPY_MODEL_b1323dbd06b94629b5e83667e9ae00e5",
            "placeholder": "​",
            "style": "IPY_MODEL_6e7141fa0ed64768847eb388646de3ab",
            "value": "100%"
          }
        },
        "6e7141fa0ed64768847eb388646de3ab": {
          "model_module": "@jupyter-widgets/controls",
          "model_module_version": "1.5.0",
          "model_name": "DescriptionStyleModel",
          "state": {
            "_model_module": "@jupyter-widgets/controls",
            "_model_module_version": "1.5.0",
            "_model_name": "DescriptionStyleModel",
            "_view_count": null,
            "_view_module": "@jupyter-widgets/base",
            "_view_module_version": "1.2.0",
            "_view_name": "StyleView",
            "description_width": ""
          }
        },
        "6ec63472aa7a4833a3ad383cbc886ac9": {
          "model_module": "@jupyter-widgets/controls",
          "model_module_version": "1.5.0",
          "model_name": "HBoxModel",
          "state": {
            "_dom_classes": [],
            "_model_module": "@jupyter-widgets/controls",
            "_model_module_version": "1.5.0",
            "_model_name": "HBoxModel",
            "_view_count": null,
            "_view_module": "@jupyter-widgets/controls",
            "_view_module_version": "1.5.0",
            "_view_name": "HBoxView",
            "box_style": "",
            "children": [
              "IPY_MODEL_e55572d5a4ea49f4aa791db07d99cf1c",
              "IPY_MODEL_1b14864179204d11918d0a59aabd6a76",
              "IPY_MODEL_a3d8e1d3507b44788dc098aff404b2cc"
            ],
            "layout": "IPY_MODEL_5edac5c03dce478391bba902c8d0d859"
          }
        },
        "72848e2a29a9400c8884674034f7f5c7": {
          "model_module": "@jupyter-widgets/base",
          "model_module_version": "1.2.0",
          "model_name": "LayoutModel",
          "state": {
            "_model_module": "@jupyter-widgets/base",
            "_model_module_version": "1.2.0",
            "_model_name": "LayoutModel",
            "_view_count": null,
            "_view_module": "@jupyter-widgets/base",
            "_view_module_version": "1.2.0",
            "_view_name": "LayoutView",
            "align_content": null,
            "align_items": null,
            "align_self": null,
            "border": null,
            "bottom": null,
            "display": null,
            "flex": null,
            "flex_flow": null,
            "grid_area": null,
            "grid_auto_columns": null,
            "grid_auto_flow": null,
            "grid_auto_rows": null,
            "grid_column": null,
            "grid_gap": null,
            "grid_row": null,
            "grid_template_areas": null,
            "grid_template_columns": null,
            "grid_template_rows": null,
            "height": null,
            "justify_content": null,
            "justify_items": null,
            "left": null,
            "margin": null,
            "max_height": null,
            "max_width": null,
            "min_height": null,
            "min_width": null,
            "object_fit": null,
            "object_position": null,
            "order": null,
            "overflow": null,
            "overflow_x": null,
            "overflow_y": null,
            "padding": null,
            "right": null,
            "top": null,
            "visibility": null,
            "width": null
          }
        },
        "77745d32d38c4e29a844c9ef1c4dd447": {
          "model_module": "@jupyter-widgets/base",
          "model_module_version": "1.2.0",
          "model_name": "LayoutModel",
          "state": {
            "_model_module": "@jupyter-widgets/base",
            "_model_module_version": "1.2.0",
            "_model_name": "LayoutModel",
            "_view_count": null,
            "_view_module": "@jupyter-widgets/base",
            "_view_module_version": "1.2.0",
            "_view_name": "LayoutView",
            "align_content": null,
            "align_items": null,
            "align_self": null,
            "border": null,
            "bottom": null,
            "display": null,
            "flex": null,
            "flex_flow": null,
            "grid_area": null,
            "grid_auto_columns": null,
            "grid_auto_flow": null,
            "grid_auto_rows": null,
            "grid_column": null,
            "grid_gap": null,
            "grid_row": null,
            "grid_template_areas": null,
            "grid_template_columns": null,
            "grid_template_rows": null,
            "height": null,
            "justify_content": null,
            "justify_items": null,
            "left": null,
            "margin": null,
            "max_height": null,
            "max_width": null,
            "min_height": null,
            "min_width": null,
            "object_fit": null,
            "object_position": null,
            "order": null,
            "overflow": null,
            "overflow_x": null,
            "overflow_y": null,
            "padding": null,
            "right": null,
            "top": null,
            "visibility": null,
            "width": null
          }
        },
        "7d11f1eea3ab4ee1995c0e39ead45f2a": {
          "model_module": "@jupyter-widgets/controls",
          "model_module_version": "1.5.0",
          "model_name": "DescriptionStyleModel",
          "state": {
            "_model_module": "@jupyter-widgets/controls",
            "_model_module_version": "1.5.0",
            "_model_name": "DescriptionStyleModel",
            "_view_count": null,
            "_view_module": "@jupyter-widgets/base",
            "_view_module_version": "1.2.0",
            "_view_name": "StyleView",
            "description_width": ""
          }
        },
        "7dc0147c3a5841b2b157750641042299": {
          "model_module": "@jupyter-widgets/controls",
          "model_module_version": "1.5.0",
          "model_name": "DescriptionStyleModel",
          "state": {
            "_model_module": "@jupyter-widgets/controls",
            "_model_module_version": "1.5.0",
            "_model_name": "DescriptionStyleModel",
            "_view_count": null,
            "_view_module": "@jupyter-widgets/base",
            "_view_module_version": "1.2.0",
            "_view_name": "StyleView",
            "description_width": ""
          }
        },
        "81ff4c0b2df241e6a35ef26bec6da8ab": {
          "model_module": "@jupyter-widgets/controls",
          "model_module_version": "1.5.0",
          "model_name": "HBoxModel",
          "state": {
            "_dom_classes": [],
            "_model_module": "@jupyter-widgets/controls",
            "_model_module_version": "1.5.0",
            "_model_name": "HBoxModel",
            "_view_count": null,
            "_view_module": "@jupyter-widgets/controls",
            "_view_module_version": "1.5.0",
            "_view_name": "HBoxView",
            "box_style": "",
            "children": [
              "IPY_MODEL_6924c2550de74e21becdd75f4f3d5d72",
              "IPY_MODEL_ed66e0503a5247b99027fce619ec15f3",
              "IPY_MODEL_9be24e2204de47bea97bfa2952b16a8e"
            ],
            "layout": "IPY_MODEL_3600872174264a33b5875df03c35d918"
          }
        },
        "830186d39cb44155bef71729aad557dd": {
          "model_module": "@jupyter-widgets/base",
          "model_module_version": "1.2.0",
          "model_name": "LayoutModel",
          "state": {
            "_model_module": "@jupyter-widgets/base",
            "_model_module_version": "1.2.0",
            "_model_name": "LayoutModel",
            "_view_count": null,
            "_view_module": "@jupyter-widgets/base",
            "_view_module_version": "1.2.0",
            "_view_name": "LayoutView",
            "align_content": null,
            "align_items": null,
            "align_self": null,
            "border": null,
            "bottom": null,
            "display": null,
            "flex": null,
            "flex_flow": null,
            "grid_area": null,
            "grid_auto_columns": null,
            "grid_auto_flow": null,
            "grid_auto_rows": null,
            "grid_column": null,
            "grid_gap": null,
            "grid_row": null,
            "grid_template_areas": null,
            "grid_template_columns": null,
            "grid_template_rows": null,
            "height": null,
            "justify_content": null,
            "justify_items": null,
            "left": null,
            "margin": null,
            "max_height": null,
            "max_width": null,
            "min_height": null,
            "min_width": null,
            "object_fit": null,
            "object_position": null,
            "order": null,
            "overflow": null,
            "overflow_x": null,
            "overflow_y": null,
            "padding": null,
            "right": null,
            "top": null,
            "visibility": null,
            "width": null
          }
        },
        "89d303b01cab4b60b7136b9b08c39b6b": {
          "model_module": "@jupyter-widgets/controls",
          "model_module_version": "1.5.0",
          "model_name": "FloatProgressModel",
          "state": {
            "_dom_classes": [],
            "_model_module": "@jupyter-widgets/controls",
            "_model_module_version": "1.5.0",
            "_model_name": "FloatProgressModel",
            "_view_count": null,
            "_view_module": "@jupyter-widgets/controls",
            "_view_module_version": "1.5.0",
            "_view_name": "ProgressView",
            "bar_style": "success",
            "description": "",
            "description_tooltip": null,
            "layout": "IPY_MODEL_99f05b3e809c4af0b2cb49a722113e08",
            "max": 1648877,
            "min": 0,
            "orientation": "horizontal",
            "style": "IPY_MODEL_af912289e9044360b4c83e53eff2220f",
            "value": 1648877
          }
        },
        "8ad3e8edd5034fc6869e57f32273bea5": {
          "model_module": "@jupyter-widgets/controls",
          "model_module_version": "1.5.0",
          "model_name": "FloatProgressModel",
          "state": {
            "_dom_classes": [],
            "_model_module": "@jupyter-widgets/controls",
            "_model_module_version": "1.5.0",
            "_model_name": "FloatProgressModel",
            "_view_count": null,
            "_view_module": "@jupyter-widgets/controls",
            "_view_module_version": "1.5.0",
            "_view_name": "ProgressView",
            "bar_style": "success",
            "description": "",
            "description_tooltip": null,
            "layout": "IPY_MODEL_0794dea890884952b30844fcf9493f90",
            "max": 4542,
            "min": 0,
            "orientation": "horizontal",
            "style": "IPY_MODEL_e5931b0454aa4189aef03cd20b2beccd",
            "value": 4542
          }
        },
        "8c17f139b7bb401f966394e1c1aef45f": {
          "model_module": "@jupyter-widgets/controls",
          "model_module_version": "1.5.0",
          "model_name": "HTMLModel",
          "state": {
            "_dom_classes": [],
            "_model_module": "@jupyter-widgets/controls",
            "_model_module_version": "1.5.0",
            "_model_name": "HTMLModel",
            "_view_count": null,
            "_view_module": "@jupyter-widgets/controls",
            "_view_module_version": "1.5.0",
            "_view_name": "HTMLView",
            "description": "",
            "description_tooltip": null,
            "layout": "IPY_MODEL_a93337b8f679448ca23f3d41613c5573",
            "placeholder": "​",
            "style": "IPY_MODEL_da2a86c1671f41adadcb41ae2e3d6f3a",
            "value": "100%"
          }
        },
        "91d4b82f66d140bf8cfae7b507a9664b": {
          "model_module": "@jupyter-widgets/controls",
          "model_module_version": "1.5.0",
          "model_name": "HTMLModel",
          "state": {
            "_dom_classes": [],
            "_model_module": "@jupyter-widgets/controls",
            "_model_module_version": "1.5.0",
            "_model_name": "HTMLModel",
            "_view_count": null,
            "_view_module": "@jupyter-widgets/controls",
            "_view_module_version": "1.5.0",
            "_view_name": "HTMLView",
            "description": "",
            "description_tooltip": null,
            "layout": "IPY_MODEL_72848e2a29a9400c8884674034f7f5c7",
            "placeholder": "​",
            "style": "IPY_MODEL_5e5828d988b44bf195193f9aae15d984",
            "value": " 1648877/1648877 [00:00&lt;00:00, 24777484.22it/s]"
          }
        },
        "99f05b3e809c4af0b2cb49a722113e08": {
          "model_module": "@jupyter-widgets/base",
          "model_module_version": "1.2.0",
          "model_name": "LayoutModel",
          "state": {
            "_model_module": "@jupyter-widgets/base",
            "_model_module_version": "1.2.0",
            "_model_name": "LayoutModel",
            "_view_count": null,
            "_view_module": "@jupyter-widgets/base",
            "_view_module_version": "1.2.0",
            "_view_name": "LayoutView",
            "align_content": null,
            "align_items": null,
            "align_self": null,
            "border": null,
            "bottom": null,
            "display": null,
            "flex": null,
            "flex_flow": null,
            "grid_area": null,
            "grid_auto_columns": null,
            "grid_auto_flow": null,
            "grid_auto_rows": null,
            "grid_column": null,
            "grid_gap": null,
            "grid_row": null,
            "grid_template_areas": null,
            "grid_template_columns": null,
            "grid_template_rows": null,
            "height": null,
            "justify_content": null,
            "justify_items": null,
            "left": null,
            "margin": null,
            "max_height": null,
            "max_width": null,
            "min_height": null,
            "min_width": null,
            "object_fit": null,
            "object_position": null,
            "order": null,
            "overflow": null,
            "overflow_x": null,
            "overflow_y": null,
            "padding": null,
            "right": null,
            "top": null,
            "visibility": null,
            "width": null
          }
        },
        "9aaecdf0cf6548a4973f696d3c4c3aa9": {
          "model_module": "@jupyter-widgets/base",
          "model_module_version": "1.2.0",
          "model_name": "LayoutModel",
          "state": {
            "_model_module": "@jupyter-widgets/base",
            "_model_module_version": "1.2.0",
            "_model_name": "LayoutModel",
            "_view_count": null,
            "_view_module": "@jupyter-widgets/base",
            "_view_module_version": "1.2.0",
            "_view_name": "LayoutView",
            "align_content": null,
            "align_items": null,
            "align_self": null,
            "border": null,
            "bottom": null,
            "display": null,
            "flex": null,
            "flex_flow": null,
            "grid_area": null,
            "grid_auto_columns": null,
            "grid_auto_flow": null,
            "grid_auto_rows": null,
            "grid_column": null,
            "grid_gap": null,
            "grid_row": null,
            "grid_template_areas": null,
            "grid_template_columns": null,
            "grid_template_rows": null,
            "height": null,
            "justify_content": null,
            "justify_items": null,
            "left": null,
            "margin": null,
            "max_height": null,
            "max_width": null,
            "min_height": null,
            "min_width": null,
            "object_fit": null,
            "object_position": null,
            "order": null,
            "overflow": null,
            "overflow_x": null,
            "overflow_y": null,
            "padding": null,
            "right": null,
            "top": null,
            "visibility": null,
            "width": null
          }
        },
        "9be24e2204de47bea97bfa2952b16a8e": {
          "model_module": "@jupyter-widgets/controls",
          "model_module_version": "1.5.0",
          "model_name": "HTMLModel",
          "state": {
            "_dom_classes": [],
            "_model_module": "@jupyter-widgets/controls",
            "_model_module_version": "1.5.0",
            "_model_name": "HTMLModel",
            "_view_count": null,
            "_view_module": "@jupyter-widgets/controls",
            "_view_module_version": "1.5.0",
            "_view_name": "HTMLView",
            "description": "",
            "description_tooltip": null,
            "layout": "IPY_MODEL_3aa48f3f30ad484e9cda1e0e000f0137",
            "placeholder": "​",
            "style": "IPY_MODEL_7dc0147c3a5841b2b157750641042299",
            "value": " 28881/28881 [00:00&lt;00:00, 646746.90it/s]"
          }
        },
        "a2f98538117d4f80b7e2d5b3fb4c51a1": {
          "model_module": "@jupyter-widgets/base",
          "model_module_version": "1.2.0",
          "model_name": "LayoutModel",
          "state": {
            "_model_module": "@jupyter-widgets/base",
            "_model_module_version": "1.2.0",
            "_model_name": "LayoutModel",
            "_view_count": null,
            "_view_module": "@jupyter-widgets/base",
            "_view_module_version": "1.2.0",
            "_view_name": "LayoutView",
            "align_content": null,
            "align_items": null,
            "align_self": null,
            "border": null,
            "bottom": null,
            "display": null,
            "flex": null,
            "flex_flow": null,
            "grid_area": null,
            "grid_auto_columns": null,
            "grid_auto_flow": null,
            "grid_auto_rows": null,
            "grid_column": null,
            "grid_gap": null,
            "grid_row": null,
            "grid_template_areas": null,
            "grid_template_columns": null,
            "grid_template_rows": null,
            "height": null,
            "justify_content": null,
            "justify_items": null,
            "left": null,
            "margin": null,
            "max_height": null,
            "max_width": null,
            "min_height": null,
            "min_width": null,
            "object_fit": null,
            "object_position": null,
            "order": null,
            "overflow": null,
            "overflow_x": null,
            "overflow_y": null,
            "padding": null,
            "right": null,
            "top": null,
            "visibility": null,
            "width": null
          }
        },
        "a3d8e1d3507b44788dc098aff404b2cc": {
          "model_module": "@jupyter-widgets/controls",
          "model_module_version": "1.5.0",
          "model_name": "HTMLModel",
          "state": {
            "_dom_classes": [],
            "_model_module": "@jupyter-widgets/controls",
            "_model_module_version": "1.5.0",
            "_model_name": "HTMLModel",
            "_view_count": null,
            "_view_module": "@jupyter-widgets/controls",
            "_view_module_version": "1.5.0",
            "_view_name": "HTMLView",
            "description": "",
            "description_tooltip": null,
            "layout": "IPY_MODEL_830186d39cb44155bef71729aad557dd",
            "placeholder": "​",
            "style": "IPY_MODEL_005966b9b2a84fef89bc08536216a0ad",
            "value": " 9912422/9912422 [00:00&lt;00:00, 41533827.43it/s]"
          }
        },
        "a93337b8f679448ca23f3d41613c5573": {
          "model_module": "@jupyter-widgets/base",
          "model_module_version": "1.2.0",
          "model_name": "LayoutModel",
          "state": {
            "_model_module": "@jupyter-widgets/base",
            "_model_module_version": "1.2.0",
            "_model_name": "LayoutModel",
            "_view_count": null,
            "_view_module": "@jupyter-widgets/base",
            "_view_module_version": "1.2.0",
            "_view_name": "LayoutView",
            "align_content": null,
            "align_items": null,
            "align_self": null,
            "border": null,
            "bottom": null,
            "display": null,
            "flex": null,
            "flex_flow": null,
            "grid_area": null,
            "grid_auto_columns": null,
            "grid_auto_flow": null,
            "grid_auto_rows": null,
            "grid_column": null,
            "grid_gap": null,
            "grid_row": null,
            "grid_template_areas": null,
            "grid_template_columns": null,
            "grid_template_rows": null,
            "height": null,
            "justify_content": null,
            "justify_items": null,
            "left": null,
            "margin": null,
            "max_height": null,
            "max_width": null,
            "min_height": null,
            "min_width": null,
            "object_fit": null,
            "object_position": null,
            "order": null,
            "overflow": null,
            "overflow_x": null,
            "overflow_y": null,
            "padding": null,
            "right": null,
            "top": null,
            "visibility": null,
            "width": null
          }
        },
        "ac5695335b3648e59c4f2e6ee48018f6": {
          "model_module": "@jupyter-widgets/base",
          "model_module_version": "1.2.0",
          "model_name": "LayoutModel",
          "state": {
            "_model_module": "@jupyter-widgets/base",
            "_model_module_version": "1.2.0",
            "_model_name": "LayoutModel",
            "_view_count": null,
            "_view_module": "@jupyter-widgets/base",
            "_view_module_version": "1.2.0",
            "_view_name": "LayoutView",
            "align_content": null,
            "align_items": null,
            "align_self": null,
            "border": null,
            "bottom": null,
            "display": null,
            "flex": null,
            "flex_flow": null,
            "grid_area": null,
            "grid_auto_columns": null,
            "grid_auto_flow": null,
            "grid_auto_rows": null,
            "grid_column": null,
            "grid_gap": null,
            "grid_row": null,
            "grid_template_areas": null,
            "grid_template_columns": null,
            "grid_template_rows": null,
            "height": null,
            "justify_content": null,
            "justify_items": null,
            "left": null,
            "margin": null,
            "max_height": null,
            "max_width": null,
            "min_height": null,
            "min_width": null,
            "object_fit": null,
            "object_position": null,
            "order": null,
            "overflow": null,
            "overflow_x": null,
            "overflow_y": null,
            "padding": null,
            "right": null,
            "top": null,
            "visibility": null,
            "width": null
          }
        },
        "af912289e9044360b4c83e53eff2220f": {
          "model_module": "@jupyter-widgets/controls",
          "model_module_version": "1.5.0",
          "model_name": "ProgressStyleModel",
          "state": {
            "_model_module": "@jupyter-widgets/controls",
            "_model_module_version": "1.5.0",
            "_model_name": "ProgressStyleModel",
            "_view_count": null,
            "_view_module": "@jupyter-widgets/base",
            "_view_module_version": "1.2.0",
            "_view_name": "StyleView",
            "bar_color": null,
            "description_width": ""
          }
        },
        "b1323dbd06b94629b5e83667e9ae00e5": {
          "model_module": "@jupyter-widgets/base",
          "model_module_version": "1.2.0",
          "model_name": "LayoutModel",
          "state": {
            "_model_module": "@jupyter-widgets/base",
            "_model_module_version": "1.2.0",
            "_model_name": "LayoutModel",
            "_view_count": null,
            "_view_module": "@jupyter-widgets/base",
            "_view_module_version": "1.2.0",
            "_view_name": "LayoutView",
            "align_content": null,
            "align_items": null,
            "align_self": null,
            "border": null,
            "bottom": null,
            "display": null,
            "flex": null,
            "flex_flow": null,
            "grid_area": null,
            "grid_auto_columns": null,
            "grid_auto_flow": null,
            "grid_auto_rows": null,
            "grid_column": null,
            "grid_gap": null,
            "grid_row": null,
            "grid_template_areas": null,
            "grid_template_columns": null,
            "grid_template_rows": null,
            "height": null,
            "justify_content": null,
            "justify_items": null,
            "left": null,
            "margin": null,
            "max_height": null,
            "max_width": null,
            "min_height": null,
            "min_width": null,
            "object_fit": null,
            "object_position": null,
            "order": null,
            "overflow": null,
            "overflow_x": null,
            "overflow_y": null,
            "padding": null,
            "right": null,
            "top": null,
            "visibility": null,
            "width": null
          }
        },
        "bb39fa4ee2a3452cadec46cfeb2b2f3b": {
          "model_module": "@jupyter-widgets/controls",
          "model_module_version": "1.5.0",
          "model_name": "ProgressStyleModel",
          "state": {
            "_model_module": "@jupyter-widgets/controls",
            "_model_module_version": "1.5.0",
            "_model_name": "ProgressStyleModel",
            "_view_count": null,
            "_view_module": "@jupyter-widgets/base",
            "_view_module_version": "1.2.0",
            "_view_name": "StyleView",
            "bar_color": null,
            "description_width": ""
          }
        },
        "da2a86c1671f41adadcb41ae2e3d6f3a": {
          "model_module": "@jupyter-widgets/controls",
          "model_module_version": "1.5.0",
          "model_name": "DescriptionStyleModel",
          "state": {
            "_model_module": "@jupyter-widgets/controls",
            "_model_module_version": "1.5.0",
            "_model_name": "DescriptionStyleModel",
            "_view_count": null,
            "_view_module": "@jupyter-widgets/base",
            "_view_module_version": "1.2.0",
            "_view_name": "StyleView",
            "description_width": ""
          }
        },
        "e55572d5a4ea49f4aa791db07d99cf1c": {
          "model_module": "@jupyter-widgets/controls",
          "model_module_version": "1.5.0",
          "model_name": "HTMLModel",
          "state": {
            "_dom_classes": [],
            "_model_module": "@jupyter-widgets/controls",
            "_model_module_version": "1.5.0",
            "_model_name": "HTMLModel",
            "_view_count": null,
            "_view_module": "@jupyter-widgets/controls",
            "_view_module_version": "1.5.0",
            "_view_name": "HTMLView",
            "description": "",
            "description_tooltip": null,
            "layout": "IPY_MODEL_9aaecdf0cf6548a4973f696d3c4c3aa9",
            "placeholder": "​",
            "style": "IPY_MODEL_ef2ac5d6ea6d4c9ba7b437c2398bcab0",
            "value": "100%"
          }
        },
        "e5931b0454aa4189aef03cd20b2beccd": {
          "model_module": "@jupyter-widgets/controls",
          "model_module_version": "1.5.0",
          "model_name": "ProgressStyleModel",
          "state": {
            "_model_module": "@jupyter-widgets/controls",
            "_model_module_version": "1.5.0",
            "_model_name": "ProgressStyleModel",
            "_view_count": null,
            "_view_module": "@jupyter-widgets/base",
            "_view_module_version": "1.2.0",
            "_view_name": "StyleView",
            "bar_color": null,
            "description_width": ""
          }
        },
        "ebe988eab754449c9eafd323f6cc3063": {
          "model_module": "@jupyter-widgets/base",
          "model_module_version": "1.2.0",
          "model_name": "LayoutModel",
          "state": {
            "_model_module": "@jupyter-widgets/base",
            "_model_module_version": "1.2.0",
            "_model_name": "LayoutModel",
            "_view_count": null,
            "_view_module": "@jupyter-widgets/base",
            "_view_module_version": "1.2.0",
            "_view_name": "LayoutView",
            "align_content": null,
            "align_items": null,
            "align_self": null,
            "border": null,
            "bottom": null,
            "display": null,
            "flex": null,
            "flex_flow": null,
            "grid_area": null,
            "grid_auto_columns": null,
            "grid_auto_flow": null,
            "grid_auto_rows": null,
            "grid_column": null,
            "grid_gap": null,
            "grid_row": null,
            "grid_template_areas": null,
            "grid_template_columns": null,
            "grid_template_rows": null,
            "height": null,
            "justify_content": null,
            "justify_items": null,
            "left": null,
            "margin": null,
            "max_height": null,
            "max_width": null,
            "min_height": null,
            "min_width": null,
            "object_fit": null,
            "object_position": null,
            "order": null,
            "overflow": null,
            "overflow_x": null,
            "overflow_y": null,
            "padding": null,
            "right": null,
            "top": null,
            "visibility": null,
            "width": null
          }
        },
        "ed66e0503a5247b99027fce619ec15f3": {
          "model_module": "@jupyter-widgets/controls",
          "model_module_version": "1.5.0",
          "model_name": "FloatProgressModel",
          "state": {
            "_dom_classes": [],
            "_model_module": "@jupyter-widgets/controls",
            "_model_module_version": "1.5.0",
            "_model_name": "FloatProgressModel",
            "_view_count": null,
            "_view_module": "@jupyter-widgets/controls",
            "_view_module_version": "1.5.0",
            "_view_name": "ProgressView",
            "bar_style": "success",
            "description": "",
            "description_tooltip": null,
            "layout": "IPY_MODEL_ebe988eab754449c9eafd323f6cc3063",
            "max": 28881,
            "min": 0,
            "orientation": "horizontal",
            "style": "IPY_MODEL_67472ca8e18542acbf6e7caa8443446d",
            "value": 28881
          }
        },
        "ef2ac5d6ea6d4c9ba7b437c2398bcab0": {
          "model_module": "@jupyter-widgets/controls",
          "model_module_version": "1.5.0",
          "model_name": "DescriptionStyleModel",
          "state": {
            "_model_module": "@jupyter-widgets/controls",
            "_model_module_version": "1.5.0",
            "_model_name": "DescriptionStyleModel",
            "_view_count": null,
            "_view_module": "@jupyter-widgets/base",
            "_view_module_version": "1.2.0",
            "_view_name": "StyleView",
            "description_width": ""
          }
        }
      }
    }
  },
  "nbformat": 4,
  "nbformat_minor": 5
}
