{
  "cells": [
    {
      "cell_type": "markdown",
      "id": "233c7e79-d5e0-4684-9a34-71589234ed10",
      "metadata": {
        "id": "233c7e79-d5e0-4684-9a34-71589234ed10"
      },
      "source": [
        "### Setup\n",
        "\n",
        "If you want to write your own code and not follow this format, it is ok. Just make sure to use the same hyperparameters and models. If you see convergence sooner during the training, you may use fewer iterations."
      ]
    },
    {
      "cell_type": "code",
      "execution_count": 1,
      "id": "af462227-c6c5-4484-b6c9-527f3affafa8",
      "metadata": {
        "id": "af462227-c6c5-4484-b6c9-527f3affafa8"
      },
      "outputs": [],
      "source": [
        "import argparse\n",
        "import numpy as np\n",
        "from tqdm import tqdm\n",
        "from pprint import pprint\n",
        "from torchvision import datasets, transforms\n",
        "import torch\n",
        "import torch.nn.functional as F\n",
        "from torch import autograd, nn, optim\n",
        "from torch.nn import functional as F\n",
        "\n",
        "# Latent dimensions\n",
        "z = 10\n",
        "# Training iterations\n",
        "iter_max = 200\n",
        "# Batch size\n",
        "batch_size = 100\n",
        "# For the optimizer\n",
        "learning_rate = 1e-3\n",
        "\n",
        "device = torch.device('cuda' if torch.cuda.is_available() else 'cpu')\n"
      ]
    },
    {
      "cell_type": "markdown",
      "id": "9b8f37be-71b9-42d5-a055-81760ca991a1",
      "metadata": {
        "id": "9b8f37be-71b9-42d5-a055-81760ca991a1"
      },
      "source": [
        "### Load dataset"
      ]
    },
    {
      "cell_type": "code",
      "execution_count": 2,
      "id": "9f0cf280-eaba-4685-92ec-53274e179329",
      "metadata": {
        "colab": {
          "base_uri": "https://localhost:8080/",
          "height": 585,
          "referenced_widgets": [
            "3615bcc945dd44a19989727faa4cf095",
            "c1bbcf7a7d6e45559c8f4959d09a9793",
            "1d33b0b7ff3541249ff0dfe2726935b1",
            "fdd749d70e6d42bb921110cebb0dc61f",
            "93c14744f3bd4f17b3c1c33d93d47c85",
            "96961d3af8d542f6b7bbf61bec8a261a",
            "4eafac257997402db69527181036f24c",
            "26b0f26cf56f4e7cb54a72631cdf3f8a",
            "870bd4aad23647f8882b2192a72c991c",
            "b7ec6580119849e6bc41e545075a3cac",
            "cc8ab4bbd5614684ab4dcf3a2a501c7e",
            "43c5d4d1793e4ed6bff1d7d6b4a1fd93",
            "87c44df6c20b40a99876524ab8973bdb",
            "4978b01ed70f4603bf7d4e93afaa445d",
            "18b7ce1bdbc44ac393619f1386eca2aa",
            "9afa82bf50344f588dc119db4b41e1ff",
            "e14f1cbe80894e6fb2c4548505f81782",
            "7221b52cb48c46c3bd863eae6f7ae35d",
            "4a441abae012435db9c39f29d25eef18",
            "c76ac7b49fa140bfbbd656e69a05c5fd",
            "9360e00753ff4cbf8ce3d7537f88f69b",
            "81f57f11cd924ea5842ecd084279880d",
            "c7395b9df975496c85270ee0d9324a3d",
            "14b731157fc14df398b7086df7b3a10f",
            "269cca33dc5e4b138cd9243cb48eb8ca",
            "2284e47127804969b9ac56bcf099936a",
            "3a06b9b3a642460786ccb542a2687941",
            "e84d290534b1490c8362740987e32f23",
            "457c8d7a9d9046fa9b8e2351721f42e8",
            "a9569d30217d41a6a9a56befc3e81cfa",
            "5c173fa62217484d857cb3297bb01bbe",
            "19a79da95dd3401486b7e4b61de4bf20",
            "8dac8da78c9444acb1fbb5c7f98493e1",
            "52ba2622d5804fef98cb6ae23fb23ebe",
            "c7d02db0fb594848b5636755abf8e84c",
            "dadebcf8e134401c8d1bfac76dac27b2",
            "52527c0c762343439a5cfad81d45b6c5",
            "c1e0037aafd74b76b1a58fadd7480a8f",
            "21a5977d36874827919904962e45ab11",
            "f5f07d76320d45a381b0e3db80f4c483",
            "451cadeb832a4397884f99e75c5450f0",
            "5d021069888e4d2195e624920345f3ec",
            "a2ecc185dc27453fb09b053c4af55135",
            "dd3e6a1777ee4017b5f054220c11a647"
          ]
        },
        "id": "9f0cf280-eaba-4685-92ec-53274e179329",
        "outputId": "6e1918e3-fae4-4b53-e267-e44de72c9436"
      },
      "outputs": [
        {
          "output_type": "stream",
          "name": "stdout",
          "text": [
            "Downloading http://yann.lecun.com/exdb/mnist/train-images-idx3-ubyte.gz\n",
            "Downloading http://yann.lecun.com/exdb/mnist/train-images-idx3-ubyte.gz to data/MNIST/raw/train-images-idx3-ubyte.gz\n"
          ]
        },
        {
          "output_type": "display_data",
          "data": {
            "text/plain": [
              "  0%|          | 0/9912422 [00:00<?, ?it/s]"
            ],
            "application/vnd.jupyter.widget-view+json": {
              "version_major": 2,
              "version_minor": 0,
              "model_id": "3615bcc945dd44a19989727faa4cf095"
            }
          },
          "metadata": {}
        },
        {
          "output_type": "stream",
          "name": "stdout",
          "text": [
            "Extracting data/MNIST/raw/train-images-idx3-ubyte.gz to data/MNIST/raw\n",
            "\n",
            "Downloading http://yann.lecun.com/exdb/mnist/train-labels-idx1-ubyte.gz\n",
            "Downloading http://yann.lecun.com/exdb/mnist/train-labels-idx1-ubyte.gz to data/MNIST/raw/train-labels-idx1-ubyte.gz\n"
          ]
        },
        {
          "output_type": "display_data",
          "data": {
            "text/plain": [
              "  0%|          | 0/28881 [00:00<?, ?it/s]"
            ],
            "application/vnd.jupyter.widget-view+json": {
              "version_major": 2,
              "version_minor": 0,
              "model_id": "43c5d4d1793e4ed6bff1d7d6b4a1fd93"
            }
          },
          "metadata": {}
        },
        {
          "output_type": "stream",
          "name": "stdout",
          "text": [
            "Extracting data/MNIST/raw/train-labels-idx1-ubyte.gz to data/MNIST/raw\n",
            "\n",
            "Downloading http://yann.lecun.com/exdb/mnist/t10k-images-idx3-ubyte.gz\n",
            "Downloading http://yann.lecun.com/exdb/mnist/t10k-images-idx3-ubyte.gz to data/MNIST/raw/t10k-images-idx3-ubyte.gz\n"
          ]
        },
        {
          "output_type": "display_data",
          "data": {
            "text/plain": [
              "  0%|          | 0/1648877 [00:00<?, ?it/s]"
            ],
            "application/vnd.jupyter.widget-view+json": {
              "version_major": 2,
              "version_minor": 0,
              "model_id": "c7395b9df975496c85270ee0d9324a3d"
            }
          },
          "metadata": {}
        },
        {
          "output_type": "stream",
          "name": "stdout",
          "text": [
            "Extracting data/MNIST/raw/t10k-images-idx3-ubyte.gz to data/MNIST/raw\n",
            "\n",
            "Downloading http://yann.lecun.com/exdb/mnist/t10k-labels-idx1-ubyte.gz\n",
            "Downloading http://yann.lecun.com/exdb/mnist/t10k-labels-idx1-ubyte.gz to data/MNIST/raw/t10k-labels-idx1-ubyte.gz\n"
          ]
        },
        {
          "output_type": "display_data",
          "data": {
            "text/plain": [
              "  0%|          | 0/4542 [00:00<?, ?it/s]"
            ],
            "application/vnd.jupyter.widget-view+json": {
              "version_major": 2,
              "version_minor": 0,
              "model_id": "52ba2622d5804fef98cb6ae23fb23ebe"
            }
          },
          "metadata": {}
        },
        {
          "output_type": "stream",
          "name": "stdout",
          "text": [
            "Extracting data/MNIST/raw/t10k-labels-idx1-ubyte.gz to data/MNIST/raw\n",
            "\n"
          ]
        },
        {
          "output_type": "stream",
          "name": "stderr",
          "text": [
            "/usr/local/lib/python3.8/dist-packages/torchvision/datasets/mnist.py:75: UserWarning: train_data has been renamed data\n",
            "  warnings.warn(\"train_data has been renamed data\")\n",
            "/usr/local/lib/python3.8/dist-packages/torchvision/datasets/mnist.py:65: UserWarning: train_labels has been renamed targets\n",
            "  warnings.warn(\"train_labels has been renamed targets\")\n",
            "/usr/local/lib/python3.8/dist-packages/torchvision/datasets/mnist.py:80: UserWarning: test_data has been renamed data\n",
            "  warnings.warn(\"test_data has been renamed data\")\n",
            "/usr/local/lib/python3.8/dist-packages/torchvision/datasets/mnist.py:70: UserWarning: test_labels has been renamed targets\n",
            "  warnings.warn(\"test_labels has been renamed targets\")\n"
          ]
        },
        {
          "output_type": "execute_result",
          "data": {
            "text/plain": [
              "<torch.utils.data.dataloader.DataLoader at 0x7ff7c2d7c130>"
            ]
          },
          "metadata": {},
          "execution_count": 2
        }
      ],
      "source": [
        "def get_mnist_data(device, batch_size):\n",
        "    preprocess = transforms.ToTensor()\n",
        "    train_loader = torch.utils.data.DataLoader(\n",
        "        datasets.MNIST('data', train=True, download=True, transform=preprocess),\n",
        "        batch_size=batch_size,\n",
        "        shuffle=True)\n",
        "    test_loader = torch.utils.data.DataLoader(\n",
        "        datasets.MNIST('data', train=False, download=True, transform=preprocess),\n",
        "        batch_size=batch_size,\n",
        "        shuffle=True)\n",
        "\n",
        "    # Create pre-processed training and test sets\n",
        "    X_train = train_loader.dataset.train_data.to(device).reshape(-1, 784).float() / 255\n",
        "    y_train = train_loader.dataset.train_labels.to(device)\n",
        "    X_test = test_loader.dataset.test_data.to(device).reshape(-1, 784).float() / 255\n",
        "    y_test = test_loader.dataset.test_labels.to(device)\n",
        "\n",
        "    return train_loader, test_loader\n",
        "\n",
        "train_loader, test_loader = get_mnist_data(device, batch_size)\n",
        "train_loader"
      ]
    },
    {
      "cell_type": "markdown",
      "id": "e21d7c43",
      "metadata": {
        "id": "e21d7c43"
      },
      "source": [
        "### Utility Functions\n",
        "- Complete the code for the function ```sample_gaussian```"
      ]
    },
    {
      "cell_type": "code",
      "execution_count": 3,
      "id": "0bea31b7",
      "metadata": {
        "id": "0bea31b7"
      },
      "outputs": [],
      "source": [
        "def gaussian_parameters(h, dim=-1):\n",
        "    \"\"\"\n",
        "    Converts generic real-valued representations into mean and variance\n",
        "    parameters of a Gaussian distribution\n",
        "\n",
        "    Args:\n",
        "        h: tensor: (batch, ..., dim, ...): Arbitrary tensor\n",
        "        dim: int: (): Dimension along which to split the tensor for mean and\n",
        "            variance\n",
        "\n",
        "    Returns:\n",
        "        m: tensor: (batch, ..., dim / 2, ...): Mean\n",
        "        v: tensor: (batch, ..., dim / 2, ...): Variance\n",
        "    \"\"\"\n",
        "    m, h = torch.split(h, h.size(dim) // 2, dim=dim)\n",
        "    v = F.softplus(h) + 1e-8\n",
        "    return m, v\n",
        "\n",
        "\n",
        "def sample_gaussian(m, v):\n",
        "    \"\"\"\n",
        "    Element-wise application reparameterization trick to sample from Gaussian\n",
        "\n",
        "    Args:\n",
        "        m: tensor: (batch, ...): Mean\n",
        "        v: tensor: (batch, ...): Variance\n",
        "\n",
        "    Return:\n",
        "        z: tensor: (batch, ...): Samples\n",
        "    \"\"\"\n",
        "    ################################################################################\n",
        "    # TODO: complete the code here\n",
        "    # Task: Sample z\n",
        "    #std = torch.exp(0.5 * v)\n",
        "    eps = torch.randn_like(v)\n",
        "    z = eps * torch.sqrt(v) + m\n",
        "    # End \n",
        "    ################################################################################\n",
        "    \n",
        "    return z\n",
        "\n",
        "\n",
        "bce = torch.nn.BCEWithLogitsLoss(reduction='none')\n",
        "\n",
        "\n",
        "def log_bernoulli_with_logits(x, logits):\n",
        "    \"\"\"\n",
        "    Computes the log probability of a Bernoulli given its logits\n",
        "\n",
        "    Args:\n",
        "        x: tensor: (batch, dim): Observation\n",
        "        logits: tensor: (batch, dim): Bernoulli logits\n",
        "\n",
        "    Return:\n",
        "        log_prob: tensor: (batch,): log probability of each sample\n",
        "    \"\"\"\n",
        "    log_prob = -bce(input=logits, target=x).sum(-1)\n",
        "    return log_prob\n",
        "\n",
        "\n",
        "def kl_normal(qm, qv, pm, pv):\n",
        "    \"\"\"\n",
        "    Computes the elem-wise KL divergence between two normal distributions KL(q || p) and\n",
        "    sum over the last dimension\n",
        "\n",
        "    Args:\n",
        "        qm: tensor: (batch, dim): q mean\n",
        "        qv: tensor: (batch, dim): q variance\n",
        "        pm: tensor: (batch, dim): p mean\n",
        "        pv: tensor: (batch, dim): p variance\n",
        "\n",
        "    Return:\n",
        "        kl: tensor: (batch,): kl between each sample\n",
        "    \"\"\"\n",
        "    element_wise = 0.5 * (torch.log(pv) - torch.log(qv) + qv / pv + (qm - pm).pow(2) / pv - 1)\n",
        "    kl = element_wise.sum(-1)\n",
        "    return kl"
      ]
    },
    {
      "cell_type": "markdown",
      "id": "0a8745d4",
      "metadata": {
        "id": "0a8745d4"
      },
      "source": [
        "### Base Models"
      ]
    },
    {
      "cell_type": "code",
      "execution_count": 4,
      "id": "cf16d9b7",
      "metadata": {
        "id": "cf16d9b7"
      },
      "outputs": [],
      "source": [
        "class Encoder(nn.Module):\n",
        "    def __init__(self, z_dim, y_dim=0):\n",
        "        super().__init__()\n",
        "        self.z_dim = z_dim\n",
        "        self.y_dim = y_dim\n",
        "        self.net = nn.Sequential(\n",
        "            nn.Linear(784 + y_dim, 300),\n",
        "            nn.ELU(),\n",
        "            nn.Linear(300, 300),\n",
        "            nn.ELU(),\n",
        "            nn.Linear(300, 2 * z_dim),\n",
        "        )\n",
        "\n",
        "    def encode(self, x, y=None):\n",
        "        xy = x if y is None else torch.cat((x, y), dim=1)\n",
        "        h = self.net(xy)\n",
        "        m, v = gaussian_parameters(h, dim=1)\n",
        "        return m, v\n",
        "\n",
        "class Decoder(nn.Module):\n",
        "    def __init__(self, z_dim, y_dim=0):\n",
        "        super().__init__()\n",
        "        self.z_dim = z_dim\n",
        "        self.y_dim = y_dim\n",
        "        self.net = nn.Sequential(\n",
        "            nn.Linear(z_dim + y_dim, 300),\n",
        "            nn.ELU(),\n",
        "            nn.Linear(300, 300),\n",
        "            nn.ELU(),\n",
        "            nn.Linear(300, 784)\n",
        "        )\n",
        "\n",
        "    def decode(self, z, y=None):\n",
        "        zy = z if y is None else torch.cat((z, y), dim=1)\n",
        "        return self.net(zy)\n"
      ]
    },
    {
      "cell_type": "markdown",
      "id": "3db41efa",
      "metadata": {
        "id": "3db41efa"
      },
      "source": [
        "### VAE Model\n",
        "\n",
        "- Complete the function ```negative_elbo_bound```. Make sure to use functions provided in the ***Utility*** and ***Base Model*** sections for your benefit when completing the code."
      ]
    },
    {
      "cell_type": "code",
      "execution_count": 5,
      "id": "9aab515b",
      "metadata": {
        "id": "9aab515b"
      },
      "outputs": [],
      "source": [
        "\n",
        "\n",
        "class VAE(nn.Module):\n",
        "    def __init__(self, name='vae', z_dim=2):\n",
        "        super().__init__()\n",
        "        self.name = name\n",
        "        self.z_dim = z_dim\n",
        "\n",
        "        self.enc = Encoder(self.z_dim)\n",
        "        self.dec = Decoder(self.z_dim)\n",
        "\n",
        "        # Set prior as fixed parameter attached to Module\n",
        "        self.z_prior_m = torch.nn.Parameter(torch.zeros(1), requires_grad=False)\n",
        "        self.z_prior_v = torch.nn.Parameter(torch.ones(1), requires_grad=False)\n",
        "        self.z_prior = (self.z_prior_m, self.z_prior_v)\n",
        "\n",
        "    def negative_elbo_bound(self, x):\n",
        "        \"\"\"\n",
        "        Computes the Evidence Lower Bound, KL and, Reconstruction costs\n",
        "\n",
        "        Args:\n",
        "            x: tensor: (batch, dim): Observations\n",
        "\n",
        "        Returns:\n",
        "            nelbo: tensor: (): Negative evidence lower bound\n",
        "            kl: tensor: (): ELBO KL divergence to prior\n",
        "            rec: tensor: (): ELBO Reconstruction term\n",
        "        \"\"\"\n",
        "        ################################################################################\n",
        "        # TODO: complete the code here\n",
        "        # Task: Compute negative Evidence Lower Bound and its KL and Reconstruction term\n",
        "        # Note that nelbo = kl + rec\n",
        "        # Outputs should all be scalar\n",
        "        qm, qv = self.enc.encode(x)\n",
        "        pm, pv = self.z_prior\n",
        "        kl = kl_normal(qm, qv, pm, pv).mean()\n",
        "        z = sample_gaussian(qm, qv)\n",
        "        #x_reconstructed = self.compute_sigmoid_given(z)\n",
        "        x_reconstructed = self.dec.decode(z)\n",
        "        rec = -1 * (log_bernoulli_with_logits(x, x_reconstructed).mean())\n",
        "        nelbo = kl + rec\n",
        "        # End \n",
        "        ################################################################################\n",
        "        \n",
        "        return nelbo, kl, rec\n",
        "\n",
        "    \n",
        "    def loss(self, x):\n",
        "        nelbo, kl, rec = self.negative_elbo_bound(x)\n",
        "        loss = nelbo\n",
        "\n",
        "        summaries = dict((\n",
        "            ('train/loss', nelbo),\n",
        "            ('gen/elbo', -nelbo),\n",
        "            ('gen/kl_z', kl),\n",
        "            ('gen/rec', rec),\n",
        "        ))\n",
        "\n",
        "        return loss, summaries\n",
        "\n",
        "    def sample_sigmoid(self, batch):\n",
        "        z = self.sample_z(batch)\n",
        "        return self.compute_sigmoid_given(z)\n",
        "\n",
        "    def compute_sigmoid_given(self, z):\n",
        "        logits = self.dec.decode(z)\n",
        "        return torch.sigmoid(logits)\n",
        "\n",
        "    def sample_z(self, batch):\n",
        "        return sample_gaussian(\n",
        "            self.z_prior[0].expand(batch, self.z_dim),\n",
        "            self.z_prior[1].expand(batch, self.z_dim))\n",
        "\n",
        "    def sample_x(self, batch):\n",
        "        z = self.sample_z(batch)\n",
        "        return self.sample_x_given(z)\n",
        "\n",
        "    def sample_x_given(self, z):\n",
        "        return torch.bernoulli(self.compute_sigmoid_given(z))\n"
      ]
    },
    {
      "cell_type": "markdown",
      "id": "9063db87",
      "metadata": {
        "id": "9063db87"
      },
      "source": [
        "### Run model\n",
        "\n",
        "- You will probably need to add some lines to this code. (Add test set, save statistics and plot, ...)\n",
        "\n",
        "Note that Negative ELBO on the test set should be around 100. "
      ]
    },
    {
      "cell_type": "code",
      "source": [
        "log_dict = {'train_negative_elbo': [],\n",
        "                'train_reconstruction_loss': [],\n",
        "                'train_kl_loss': []}\n",
        "log_dict_test = {'test_negative_elbo': [],\n",
        "                'test_reconstruction_loss': [],\n",
        "                'test_kl_loss': []}\n",
        "vae = VAE(z_dim=z).to(device)\n",
        "optimizer = optim.Adam(vae.parameters(), lr=learning_rate)\n",
        "\n",
        "for i in tqdm(range(iter_max)):\n",
        "    for batch_idx, (xu, yu) in enumerate(train_loader):\n",
        "            \n",
        "        optimizer.zero_grad()\n",
        "        #print(\"xu :\",xu.reshape(xu.size(0), -1).shape)\n",
        "\n",
        "        xu = torch.bernoulli(xu.to(device).reshape(xu.size(0), -1))\n",
        "        yu = yu.new(np.eye(10)[yu]).to(device).float()\n",
        "        loss, summaries = vae.loss(xu)\n",
        "\n",
        "        loss.backward()\n",
        "        optimizer.step()\n",
        "        \n",
        "    #print(summaries['train/loss'])\n",
        "    \n",
        "    ################################################################################\n",
        "    # TODO: complete the code here\n",
        "    # report the loss terms across time for train and validation datasets\n",
        "    #\n",
        "    # You can choose to only perform validation once in every 10 (Or any other number \n",
        "    # depending on the speed of the algorithm on your machine) iterations and display  \n",
        "    # the training and validation statistics on those iterataions.\n",
        "\n",
        "    # LOGGING\n",
        "    log_dict['train_negative_elbo'].append(summaries['train/loss'].item())\n",
        "    log_dict['train_reconstruction_loss'].append(summaries['gen/rec'].item())\n",
        "    log_dict['train_kl_loss'].append(summaries['gen/kl_z'].item())\n",
        "\n",
        "    #print('train***Epoch:  , Loss: ,reconstruction_loss  ,kl_loss : ', (i+1, summaries['train/loss'].item(),summaries['gen/rec'].item(),summaries['gen/kl_z'].item()))\n",
        "\n",
        "    #evalution\n",
        "\n",
        "    with torch.no_grad():\n",
        "      for batch_idx, (xu, yu) in enumerate(test_loader):\n",
        "        xu = torch.bernoulli(xu.to(device).reshape(xu.size(0), -1))\n",
        "        loss_test, summaries_test = vae.loss(xu)\n",
        "\n",
        "\n",
        "    log_dict_test['test_negative_elbo'].append(summaries_test['train/loss'].item())\n",
        "    log_dict_test['test_reconstruction_loss'].append(summaries_test['gen/rec'].item())\n",
        "    log_dict_test['test_kl_loss'].append(summaries_test['gen/kl_z'].item())\n",
        "\n",
        "    #print('\\ntest***Epoch:  , Loss: ,reconstruction_loss  ,kl_loss : ', (i+1, summaries_test['train/loss'].item(),summaries_test['gen/rec'].item(),summaries_test['gen/kl_z'].item()))\n",
        "    # End\n",
        "    ################################################################################"
      ],
      "metadata": {
        "colab": {
          "base_uri": "https://localhost:8080/"
        },
        "id": "e5VI6m40cKlZ",
        "outputId": "81275bfd-cd8b-4a0b-91fd-68af7c0421fb"
      },
      "id": "e5VI6m40cKlZ",
      "execution_count": 6,
      "outputs": [
        {
          "output_type": "stream",
          "name": "stderr",
          "text": [
            "100%|██████████| 200/200 [27:57<00:00,  8.39s/it]\n"
          ]
        }
      ]
    },
    {
      "cell_type": "code",
      "source": [
        "import matplotlib.pyplot as plt\n",
        "\n",
        "def plott(a,b,title,y_label): \n",
        "    #plt.figure(figsize=(25,8))\n",
        "    plt.plot(range(0,200), a, color='r', label='train')\n",
        "    plt.plot(range(0,200), b, color='b', label='test')\n",
        "    plt.xlabel(\"iterations\")\n",
        "    plt.ylabel(y_label)\n",
        "    plt.title(title)\n",
        "    plt.legend()\n",
        "    plt.show();"
      ],
      "metadata": {
        "id": "-23LEVWOHtw2"
      },
      "id": "-23LEVWOHtw2",
      "execution_count": 21,
      "outputs": []
    },
    {
      "cell_type": "code",
      "source": [
        "plott(log_dict['train_negative_elbo'],log_dict_test['test_negative_elbo'],\" negative_elbo for 200 iterations\",\"negative_elbo \")"
      ],
      "metadata": {
        "colab": {
          "base_uri": "https://localhost:8080/",
          "height": 295
        },
        "id": "2jCoNVnoIaIZ",
        "outputId": "b86f4dda-af6b-4620-f261-daadee6b61c1"
      },
      "id": "2jCoNVnoIaIZ",
      "execution_count": 22,
      "outputs": [
        {
          "output_type": "display_data",
          "data": {
            "text/plain": [
              "<Figure size 432x288 with 1 Axes>"
            ],
            "image/png": "[encoded data removed]"
          },
          "metadata": {
            "needs_background": "light"
          }
        }
      ]
    },
    {
      "cell_type": "code",
      "source": [
        "plott(log_dict['train_kl_loss'],log_dict_test['test_kl_loss'],\" kl_loss for 200 iterations\",\"kl_loss \")"
      ],
      "metadata": {
        "colab": {
          "base_uri": "https://localhost:8080/",
          "height": 295
        },
        "id": "QCY1GWuCJyKS",
        "outputId": "2175177b-9957-40b9-df73-98812b0d951e"
      },
      "id": "QCY1GWuCJyKS",
      "execution_count": 23,
      "outputs": [
        {
          "output_type": "display_data",
          "data": {
            "text/plain": [
              "<Figure size 432x288 with 1 Axes>"
            ],
            "image/png": "[encoded data removed]"
          },
          "metadata": {
            "needs_background": "light"
          }
        }
      ]
    },
    {
      "cell_type": "code",
      "source": [
        "plott(log_dict['train_reconstruction_loss'],log_dict_test['test_reconstruction_loss'],\" reconstruction_loss for 200 iterations\",\"reconstruction_loss \")"
      ],
      "metadata": {
        "colab": {
          "base_uri": "https://localhost:8080/",
          "height": 295
        },
        "id": "n0x_2Oo1J-Nq",
        "outputId": "57f501be-87bc-49a4-f6c6-d10253ca53ab"
      },
      "id": "n0x_2Oo1J-Nq",
      "execution_count": 24,
      "outputs": [
        {
          "output_type": "display_data",
          "data": {
            "text/plain": [
              "<Figure size 432x288 with 1 Axes>"
            ],
            "image/png": "[encoded data removed]"
          },
          "metadata": {
            "needs_background": "light"
          }
        }
      ]
    },
    {
      "cell_type": "code",
      "source": [
        "from mpl_toolkits.axes_grid1 import ImageGrid\n",
        "def make_gridd(a,axes_size):\n",
        "  b = list(a.cpu())\n",
        "  fig = plt.figure(figsize=(10., 10.))\n",
        "  grid = ImageGrid(fig, 111,  # similar to subplot(111)\n",
        "                  nrows_ncols=(axes_size, axes_size),  # creates axes_size*axes_size grid of axes\n",
        "                  axes_pad=0,  # pad between axes in inch.\n",
        "                  )\n",
        "\n",
        "  for ax, im in zip(grid, b):\n",
        "      # Iterating over the grid returns the Axes.\n",
        "      ax.imshow(im.reshape(28,28).detach().numpy())\n",
        "      ax.axis(\"off\")\n",
        "  plt.show()"
      ],
      "metadata": {
        "id": "RyaljBBrKJ7U"
      },
      "id": "RyaljBBrKJ7U",
      "execution_count": 25,
      "outputs": []
    },
    {
      "cell_type": "code",
      "source": [
        "img_gen = vae.sample_x(100)"
      ],
      "metadata": {
        "id": "tfJBY-_zMc8R"
      },
      "id": "tfJBY-_zMc8R",
      "execution_count": 28,
      "outputs": []
    },
    {
      "cell_type": "code",
      "source": [
        "make_gridd(img_gen,10)"
      ],
      "metadata": {
        "colab": {
          "base_uri": "https://localhost:8080/",
          "height": 575
        },
        "id": "CVlDYvXRTDgD",
        "outputId": "ffa258b7-f743-42eb-8323-fc7bc20d5e67"
      },
      "id": "CVlDYvXRTDgD",
      "execution_count": 29,
      "outputs": [
        {
          "output_type": "display_data",
          "data": {
            "text/plain": [
              "<Figure size 720x720 with 200 Axes>"
            ],
            "image/png": "[encoded data removed]"
          },
          "metadata": {
            "needs_background": "light"
          }
        }
      ]
    },
    {
      "cell_type": "code",
      "source": [
        "vae."
      ],
      "metadata": {
        "id": "CAFd1U5sT7qW"
      },
      "id": "CAFd1U5sT7qW",
      "execution_count": null,
      "outputs": []
    }
  ],
  "metadata": {
    "kernelspec": {
      "display_name": "Python 3 (ipykernel)",
      "language": "python",
      "name": "python3"
    },
    "language_info": {
      "codemirror_mode": {
        "name": "ipython",
        "version": 3
      },
      "file_extension": ".py",
      "mimetype": "text/x-python",
      "name": "python",
      "nbconvert_exporter": "python",
      "pygments_lexer": "ipython3",
      "version": "3.8.12"
    },
    "colab": {
      "provenance": []
    },
    "gpuClass": "standard",
    "widgets": {
      "application/vnd.jupyter.widget-state+json": {
        "3615bcc945dd44a19989727faa4cf095": {
          "model_module": "@jupyter-widgets/controls",
          "model_name": "HBoxModel",
          "model_module_version": "1.5.0",
          "state": {
            "_dom_classes": [],
            "_model_module": "@jupyter-widgets/controls",
            "_model_module_version": "1.5.0",
            "_model_name": "HBoxModel",
            "_view_count": null,
            "_view_module": "@jupyter-widgets/controls",
            "_view_module_version": "1.5.0",
            "_view_name": "HBoxView",
            "box_style": "",
            "children": [
              "IPY_MODEL_c1bbcf7a7d6e45559c8f4959d09a9793",
              "IPY_MODEL_1d33b0b7ff3541249ff0dfe2726935b1",
              "IPY_MODEL_fdd749d70e6d42bb921110cebb0dc61f"
            ],
            "layout": "IPY_MODEL_93c14744f3bd4f17b3c1c33d93d47c85"
          }
        },
        "c1bbcf7a7d6e45559c8f4959d09a9793": {
          "model_module": "@jupyter-widgets/controls",
          "model_name": "HTMLModel",
          "model_module_version": "1.5.0",
          "state": {
            "_dom_classes": [],
            "_model_module": "@jupyter-widgets/controls",
            "_model_module_version": "1.5.0",
            "_model_name": "HTMLModel",
            "_view_count": null,
            "_view_module": "@jupyter-widgets/controls",
            "_view_module_version": "1.5.0",
            "_view_name": "HTMLView",
            "description": "",
            "description_tooltip": null,
            "layout": "IPY_MODEL_96961d3af8d542f6b7bbf61bec8a261a",
            "placeholder": "​",
            "style": "IPY_MODEL_4eafac257997402db69527181036f24c",
            "value": "100%"
          }
        },
        "1d33b0b7ff3541249ff0dfe2726935b1": {
          "model_module": "@jupyter-widgets/controls",
          "model_name": "FloatProgressModel",
          "model_module_version": "1.5.0",
          "state": {
            "_dom_classes": [],
            "_model_module": "@jupyter-widgets/controls",
            "_model_module_version": "1.5.0",
            "_model_name": "FloatProgressModel",
            "_view_count": null,
            "_view_module": "@jupyter-widgets/controls",
            "_view_module_version": "1.5.0",
            "_view_name": "ProgressView",
            "bar_style": "success",
            "description": "",
            "description_tooltip": null,
            "layout": "IPY_MODEL_26b0f26cf56f4e7cb54a72631cdf3f8a",
            "max": 9912422,
            "min": 0,
            "orientation": "horizontal",
            "style": "IPY_MODEL_870bd4aad23647f8882b2192a72c991c",
            "value": 9912422
          }
        },
        "fdd749d70e6d42bb921110cebb0dc61f": {
          "model_module": "@jupyter-widgets/controls",
          "model_name": "HTMLModel",
          "model_module_version": "1.5.0",
          "state": {
            "_dom_classes": [],
            "_model_module": "@jupyter-widgets/controls",
            "_model_module_version": "1.5.0",
            "_model_name": "HTMLModel",
            "_view_count": null,
            "_view_module": "@jupyter-widgets/controls",
            "_view_module_version": "1.5.0",
            "_view_name": "HTMLView",
            "description": "",
            "description_tooltip": null,
            "layout": "IPY_MODEL_b7ec6580119849e6bc41e545075a3cac",
            "placeholder": "​",
            "style": "IPY_MODEL_cc8ab4bbd5614684ab4dcf3a2a501c7e",
            "value": " 9912422/9912422 [00:00&lt;00:00, 27396794.20it/s]"
          }
        },
        "93c14744f3bd4f17b3c1c33d93d47c85": {
          "model_module": "@jupyter-widgets/base",
          "model_name": "LayoutModel",
          "model_module_version": "1.2.0",
          "state": {
            "_model_module": "@jupyter-widgets/base",
            "_model_module_version": "1.2.0",
            "_model_name": "LayoutModel",
            "_view_count": null,
            "_view_module": "@jupyter-widgets/base",
            "_view_module_version": "1.2.0",
            "_view_name": "LayoutView",
            "align_content": null,
            "align_items": null,
            "align_self": null,
            "border": null,
            "bottom": null,
            "display": null,
            "flex": null,
            "flex_flow": null,
            "grid_area": null,
            "grid_auto_columns": null,
            "grid_auto_flow": null,
            "grid_auto_rows": null,
            "grid_column": null,
            "grid_gap": null,
            "grid_row": null,
            "grid_template_areas": null,
            "grid_template_columns": null,
            "grid_template_rows": null,
            "height": null,
            "justify_content": null,
            "justify_items": null,
            "left": null,
            "margin": null,
            "max_height": null,
            "max_width": null,
            "min_height": null,
            "min_width": null,
            "object_fit": null,
            "object_position": null,
            "order": null,
            "overflow": null,
            "overflow_x": null,
            "overflow_y": null,
            "padding": null,
            "right": null,
            "top": null,
            "visibility": null,
            "width": null
          }
        },
        "96961d3af8d542f6b7bbf61bec8a261a": {
          "model_module": "@jupyter-widgets/base",
          "model_name": "LayoutModel",
          "model_module_version": "1.2.0",
          "state": {
            "_model_module": "@jupyter-widgets/base",
            "_model_module_version": "1.2.0",
            "_model_name": "LayoutModel",
            "_view_count": null,
            "_view_module": "@jupyter-widgets/base",
            "_view_module_version": "1.2.0",
            "_view_name": "LayoutView",
            "align_content": null,
            "align_items": null,
            "align_self": null,
            "border": null,
            "bottom": null,
            "display": null,
            "flex": null,
            "flex_flow": null,
            "grid_area": null,
            "grid_auto_columns": null,
            "grid_auto_flow": null,
            "grid_auto_rows": null,
            "grid_column": null,
            "grid_gap": null,
            "grid_row": null,
            "grid_template_areas": null,
            "grid_template_columns": null,
            "grid_template_rows": null,
            "height": null,
            "justify_content": null,
            "justify_items": null,
            "left": null,
            "margin": null,
            "max_height": null,
            "max_width": null,
            "min_height": null,
            "min_width": null,
            "object_fit": null,
            "object_position": null,
            "order": null,
            "overflow": null,
            "overflow_x": null,
            "overflow_y": null,
            "padding": null,
            "right": null,
            "top": null,
            "visibility": null,
            "width": null
          }
        },
        "4eafac257997402db69527181036f24c": {
          "model_module": "@jupyter-widgets/controls",
          "model_name": "DescriptionStyleModel",
          "model_module_version": "1.5.0",
          "state": {
            "_model_module": "@jupyter-widgets/controls",
            "_model_module_version": "1.5.0",
            "_model_name": "DescriptionStyleModel",
            "_view_count": null,
            "_view_module": "@jupyter-widgets/base",
            "_view_module_version": "1.2.0",
            "_view_name": "StyleView",
            "description_width": ""
          }
        },
        "26b0f26cf56f4e7cb54a72631cdf3f8a": {
          "model_module": "@jupyter-widgets/base",
          "model_name": "LayoutModel",
          "model_module_version": "1.2.0",
          "state": {
            "_model_module": "@jupyter-widgets/base",
            "_model_module_version": "1.2.0",
            "_model_name": "LayoutModel",
            "_view_count": null,
            "_view_module": "@jupyter-widgets/base",
            "_view_module_version": "1.2.0",
            "_view_name": "LayoutView",
            "align_content": null,
            "align_items": null,
            "align_self": null,
            "border": null,
            "bottom": null,
            "display": null,
            "flex": null,
            "flex_flow": null,
            "grid_area": null,
            "grid_auto_columns": null,
            "grid_auto_flow": null,
            "grid_auto_rows": null,
            "grid_column": null,
            "grid_gap": null,
            "grid_row": null,
            "grid_template_areas": null,
            "grid_template_columns": null,
            "grid_template_rows": null,
            "height": null,
            "justify_content": null,
            "justify_items": null,
            "left": null,
            "margin": null,
            "max_height": null,
            "max_width": null,
            "min_height": null,
            "min_width": null,
            "object_fit": null,
            "object_position": null,
            "order": null,
            "overflow": null,
            "overflow_x": null,
            "overflow_y": null,
            "padding": null,
            "right": null,
            "top": null,
            "visibility": null,
            "width": null
          }
        },
        "870bd4aad23647f8882b2192a72c991c": {
          "model_module": "@jupyter-widgets/controls",
          "model_name": "ProgressStyleModel",
          "model_module_version": "1.5.0",
          "state": {
            "_model_module": "@jupyter-widgets/controls",
            "_model_module_version": "1.5.0",
            "_model_name": "ProgressStyleModel",
            "_view_count": null,
            "_view_module": "@jupyter-widgets/base",
            "_view_module_version": "1.2.0",
            "_view_name": "StyleView",
            "bar_color": null,
            "description_width": ""
          }
        },
        "b7ec6580119849e6bc41e545075a3cac": {
          "model_module": "@jupyter-widgets/base",
          "model_name": "LayoutModel",
          "model_module_version": "1.2.0",
          "state": {
            "_model_module": "@jupyter-widgets/base",
            "_model_module_version": "1.2.0",
            "_model_name": "LayoutModel",
            "_view_count": null,
            "_view_module": "@jupyter-widgets/base",
            "_view_module_version": "1.2.0",
            "_view_name": "LayoutView",
            "align_content": null,
            "align_items": null,
            "align_self": null,
            "border": null,
            "bottom": null,
            "display": null,
            "flex": null,
            "flex_flow": null,
            "grid_area": null,
            "grid_auto_columns": null,
            "grid_auto_flow": null,
            "grid_auto_rows": null,
            "grid_column": null,
            "grid_gap": null,
            "grid_row": null,
            "grid_template_areas": null,
            "grid_template_columns": null,
            "grid_template_rows": null,
            "height": null,
            "justify_content": null,
            "justify_items": null,
            "left": null,
            "margin": null,
            "max_height": null,
            "max_width": null,
            "min_height": null,
            "min_width": null,
            "object_fit": null,
            "object_position": null,
            "order": null,
            "overflow": null,
            "overflow_x": null,
            "overflow_y": null,
            "padding": null,
            "right": null,
            "top": null,
            "visibility": null,
            "width": null
          }
        },
        "cc8ab4bbd5614684ab4dcf3a2a501c7e": {
          "model_module": "@jupyter-widgets/controls",
          "model_name": "DescriptionStyleModel",
          "model_module_version": "1.5.0",
          "state": {
            "_model_module": "@jupyter-widgets/controls",
            "_model_module_version": "1.5.0",
            "_model_name": "DescriptionStyleModel",
            "_view_count": null,
            "_view_module": "@jupyter-widgets/base",
            "_view_module_version": "1.2.0",
            "_view_name": "StyleView",
            "description_width": ""
          }
        },
        "43c5d4d1793e4ed6bff1d7d6b4a1fd93": {
          "model_module": "@jupyter-widgets/controls",
          "model_name": "HBoxModel",
          "model_module_version": "1.5.0",
          "state": {
            "_dom_classes": [],
            "_model_module": "@jupyter-widgets/controls",
            "_model_module_version": "1.5.0",
            "_model_name": "HBoxModel",
            "_view_count": null,
            "_view_module": "@jupyter-widgets/controls",
            "_view_module_version": "1.5.0",
            "_view_name": "HBoxView",
            "box_style": "",
            "children": [
              "IPY_MODEL_87c44df6c20b40a99876524ab8973bdb",
              "IPY_MODEL_4978b01ed70f4603bf7d4e93afaa445d",
              "IPY_MODEL_18b7ce1bdbc44ac393619f1386eca2aa"
            ],
            "layout": "IPY_MODEL_9afa82bf50344f588dc119db4b41e1ff"
          }
        },
        "87c44df6c20b40a99876524ab8973bdb": {
          "model_module": "@jupyter-widgets/controls",
          "model_name": "HTMLModel",
          "model_module_version": "1.5.0",
          "state": {
            "_dom_classes": [],
            "_model_module": "@jupyter-widgets/controls",
            "_model_module_version": "1.5.0",
            "_model_name": "HTMLModel",
            "_view_count": null,
            "_view_module": "@jupyter-widgets/controls",
            "_view_module_version": "1.5.0",
            "_view_name": "HTMLView",
            "description": "",
            "description_tooltip": null,
            "layout": "IPY_MODEL_e14f1cbe80894e6fb2c4548505f81782",
            "placeholder": "​",
            "style": "IPY_MODEL_7221b52cb48c46c3bd863eae6f7ae35d",
            "value": "100%"
          }
        },
        "4978b01ed70f4603bf7d4e93afaa445d": {
          "model_module": "@jupyter-widgets/controls",
          "model_name": "FloatProgressModel",
          "model_module_version": "1.5.0",
          "state": {
            "_dom_classes": [],
            "_model_module": "@jupyter-widgets/controls",
            "_model_module_version": "1.5.0",
            "_model_name": "FloatProgressModel",
            "_view_count": null,
            "_view_module": "@jupyter-widgets/controls",
            "_view_module_version": "1.5.0",
            "_view_name": "ProgressView",
            "bar_style": "success",
            "description": "",
            "description_tooltip": null,
            "layout": "IPY_MODEL_4a441abae012435db9c39f29d25eef18",
            "max": 28881,
            "min": 0,
            "orientation": "horizontal",
            "style": "IPY_MODEL_c76ac7b49fa140bfbbd656e69a05c5fd",
            "value": 28881
          }
        },
        "18b7ce1bdbc44ac393619f1386eca2aa": {
          "model_module": "@jupyter-widgets/controls",
          "model_name": "HTMLModel",
          "model_module_version": "1.5.0",
          "state": {
            "_dom_classes": [],
            "_model_module": "@jupyter-widgets/controls",
            "_model_module_version": "1.5.0",
            "_model_name": "HTMLModel",
            "_view_count": null,
            "_view_module": "@jupyter-widgets/controls",
            "_view_module_version": "1.5.0",
            "_view_name": "HTMLView",
            "description": "",
            "description_tooltip": null,
            "layout": "IPY_MODEL_9360e00753ff4cbf8ce3d7537f88f69b",
            "placeholder": "​",
            "style": "IPY_MODEL_81f57f11cd924ea5842ecd084279880d",
            "value": " 28881/28881 [00:00&lt;00:00, 522871.34it/s]"
          }
        },
        "9afa82bf50344f588dc119db4b41e1ff": {
          "model_module": "@jupyter-widgets/base",
          "model_name": "LayoutModel",
          "model_module_version": "1.2.0",
          "state": {
            "_model_module": "@jupyter-widgets/base",
            "_model_module_version": "1.2.0",
            "_model_name": "LayoutModel",
            "_view_count": null,
            "_view_module": "@jupyter-widgets/base",
            "_view_module_version": "1.2.0",
            "_view_name": "LayoutView",
            "align_content": null,
            "align_items": null,
            "align_self": null,
            "border": null,
            "bottom": null,
            "display": null,
            "flex": null,
            "flex_flow": null,
            "grid_area": null,
            "grid_auto_columns": null,
            "grid_auto_flow": null,
            "grid_auto_rows": null,
            "grid_column": null,
            "grid_gap": null,
            "grid_row": null,
            "grid_template_areas": null,
            "grid_template_columns": null,
            "grid_template_rows": null,
            "height": null,
            "justify_content": null,
            "justify_items": null,
            "left": null,
            "margin": null,
            "max_height": null,
            "max_width": null,
            "min_height": null,
            "min_width": null,
            "object_fit": null,
            "object_position": null,
            "order": null,
            "overflow": null,
            "overflow_x": null,
            "overflow_y": null,
            "padding": null,
            "right": null,
            "top": null,
            "visibility": null,
            "width": null
          }
        },
        "e14f1cbe80894e6fb2c4548505f81782": {
          "model_module": "@jupyter-widgets/base",
          "model_name": "LayoutModel",
          "model_module_version": "1.2.0",
          "state": {
            "_model_module": "@jupyter-widgets/base",
            "_model_module_version": "1.2.0",
            "_model_name": "LayoutModel",
            "_view_count": null,
            "_view_module": "@jupyter-widgets/base",
            "_view_module_version": "1.2.0",
            "_view_name": "LayoutView",
            "align_content": null,
            "align_items": null,
            "align_self": null,
            "border": null,
            "bottom": null,
            "display": null,
            "flex": null,
            "flex_flow": null,
            "grid_area": null,
            "grid_auto_columns": null,
            "grid_auto_flow": null,
            "grid_auto_rows": null,
            "grid_column": null,
            "grid_gap": null,
            "grid_row": null,
            "grid_template_areas": null,
            "grid_template_columns": null,
            "grid_template_rows": null,
            "height": null,
            "justify_content": null,
            "justify_items": null,
            "left": null,
            "margin": null,
            "max_height": null,
            "max_width": null,
            "min_height": null,
            "min_width": null,
            "object_fit": null,
            "object_position": null,
            "order": null,
            "overflow": null,
            "overflow_x": null,
            "overflow_y": null,
            "padding": null,
            "right": null,
            "top": null,
            "visibility": null,
            "width": null
          }
        },
        "7221b52cb48c46c3bd863eae6f7ae35d": {
          "model_module": "@jupyter-widgets/controls",
          "model_name": "DescriptionStyleModel",
          "model_module_version": "1.5.0",
          "state": {
            "_model_module": "@jupyter-widgets/controls",
            "_model_module_version": "1.5.0",
            "_model_name": "DescriptionStyleModel",
            "_view_count": null,
            "_view_module": "@jupyter-widgets/base",
            "_view_module_version": "1.2.0",
            "_view_name": "StyleView",
            "description_width": ""
          }
        },
        "4a441abae012435db9c39f29d25eef18": {
          "model_module": "@jupyter-widgets/base",
          "model_name": "LayoutModel",
          "model_module_version": "1.2.0",
          "state": {
            "_model_module": "@jupyter-widgets/base",
            "_model_module_version": "1.2.0",
            "_model_name": "LayoutModel",
            "_view_count": null,
            "_view_module": "@jupyter-widgets/base",
            "_view_module_version": "1.2.0",
            "_view_name": "LayoutView",
            "align_content": null,
            "align_items": null,
            "align_self": null,
            "border": null,
            "bottom": null,
            "display": null,
            "flex": null,
            "flex_flow": null,
            "grid_area": null,
            "grid_auto_columns": null,
            "grid_auto_flow": null,
            "grid_auto_rows": null,
            "grid_column": null,
            "grid_gap": null,
            "grid_row": null,
            "grid_template_areas": null,
            "grid_template_columns": null,
            "grid_template_rows": null,
            "height": null,
            "justify_content": null,
            "justify_items": null,
            "left": null,
            "margin": null,
            "max_height": null,
            "max_width": null,
            "min_height": null,
            "min_width": null,
            "object_fit": null,
            "object_position": null,
            "order": null,
            "overflow": null,
            "overflow_x": null,
            "overflow_y": null,
            "padding": null,
            "right": null,
            "top": null,
            "visibility": null,
            "width": null
          }
        },
        "c76ac7b49fa140bfbbd656e69a05c5fd": {
          "model_module": "@jupyter-widgets/controls",
          "model_name": "ProgressStyleModel",
          "model_module_version": "1.5.0",
          "state": {
            "_model_module": "@jupyter-widgets/controls",
            "_model_module_version": "1.5.0",
            "_model_name": "ProgressStyleModel",
            "_view_count": null,
            "_view_module": "@jupyter-widgets/base",
            "_view_module_version": "1.2.0",
            "_view_name": "StyleView",
            "bar_color": null,
            "description_width": ""
          }
        },
        "9360e00753ff4cbf8ce3d7537f88f69b": {
          "model_module": "@jupyter-widgets/base",
          "model_name": "LayoutModel",
          "model_module_version": "1.2.0",
          "state": {
            "_model_module": "@jupyter-widgets/base",
            "_model_module_version": "1.2.0",
            "_model_name": "LayoutModel",
            "_view_count": null,
            "_view_module": "@jupyter-widgets/base",
            "_view_module_version": "1.2.0",
            "_view_name": "LayoutView",
            "align_content": null,
            "align_items": null,
            "align_self": null,
            "border": null,
            "bottom": null,
            "display": null,
            "flex": null,
            "flex_flow": null,
            "grid_area": null,
            "grid_auto_columns": null,
            "grid_auto_flow": null,
            "grid_auto_rows": null,
            "grid_column": null,
            "grid_gap": null,
            "grid_row": null,
            "grid_template_areas": null,
            "grid_template_columns": null,
            "grid_template_rows": null,
            "height": null,
            "justify_content": null,
            "justify_items": null,
            "left": null,
            "margin": null,
            "max_height": null,
            "max_width": null,
            "min_height": null,
            "min_width": null,
            "object_fit": null,
            "object_position": null,
            "order": null,
            "overflow": null,
            "overflow_x": null,
            "overflow_y": null,
            "padding": null,
            "right": null,
            "top": null,
            "visibility": null,
            "width": null
          }
        },
        "81f57f11cd924ea5842ecd084279880d": {
          "model_module": "@jupyter-widgets/controls",
          "model_name": "DescriptionStyleModel",
          "model_module_version": "1.5.0",
          "state": {
            "_model_module": "@jupyter-widgets/controls",
            "_model_module_version": "1.5.0",
            "_model_name": "DescriptionStyleModel",
            "_view_count": null,
            "_view_module": "@jupyter-widgets/base",
            "_view_module_version": "1.2.0",
            "_view_name": "StyleView",
            "description_width": ""
          }
        },
        "c7395b9df975496c85270ee0d9324a3d": {
          "model_module": "@jupyter-widgets/controls",
          "model_name": "HBoxModel",
          "model_module_version": "1.5.0",
          "state": {
            "_dom_classes": [],
            "_model_module": "@jupyter-widgets/controls",
            "_model_module_version": "1.5.0",
            "_model_name": "HBoxModel",
            "_view_count": null,
            "_view_module": "@jupyter-widgets/controls",
            "_view_module_version": "1.5.0",
            "_view_name": "HBoxView",
            "box_style": "",
            "children": [
              "IPY_MODEL_14b731157fc14df398b7086df7b3a10f",
              "IPY_MODEL_269cca33dc5e4b138cd9243cb48eb8ca",
              "IPY_MODEL_2284e47127804969b9ac56bcf099936a"
            ],
            "layout": "IPY_MODEL_3a06b9b3a642460786ccb542a2687941"
          }
        },
        "14b731157fc14df398b7086df7b3a10f": {
          "model_module": "@jupyter-widgets/controls",
          "model_name": "HTMLModel",
          "model_module_version": "1.5.0",
          "state": {
            "_dom_classes": [],
            "_model_module": "@jupyter-widgets/controls",
            "_model_module_version": "1.5.0",
            "_model_name": "HTMLModel",
            "_view_count": null,
            "_view_module": "@jupyter-widgets/controls",
            "_view_module_version": "1.5.0",
            "_view_name": "HTMLView",
            "description": "",
            "description_tooltip": null,
            "layout": "IPY_MODEL_e84d290534b1490c8362740987e32f23",
            "placeholder": "​",
            "style": "IPY_MODEL_457c8d7a9d9046fa9b8e2351721f42e8",
            "value": "100%"
          }
        },
        "269cca33dc5e4b138cd9243cb48eb8ca": {
          "model_module": "@jupyter-widgets/controls",
          "model_name": "FloatProgressModel",
          "model_module_version": "1.5.0",
          "state": {
            "_dom_classes": [],
            "_model_module": "@jupyter-widgets/controls",
            "_model_module_version": "1.5.0",
            "_model_name": "FloatProgressModel",
            "_view_count": null,
            "_view_module": "@jupyter-widgets/controls",
            "_view_module_version": "1.5.0",
            "_view_name": "ProgressView",
            "bar_style": "success",
            "description": "",
            "description_tooltip": null,
            "layout": "IPY_MODEL_a9569d30217d41a6a9a56befc3e81cfa",
            "max": 1648877,
            "min": 0,
            "orientation": "horizontal",
            "style": "IPY_MODEL_5c173fa62217484d857cb3297bb01bbe",
            "value": 1648877
          }
        },
        "2284e47127804969b9ac56bcf099936a": {
          "model_module": "@jupyter-widgets/controls",
          "model_name": "HTMLModel",
          "model_module_version": "1.5.0",
          "state": {
            "_dom_classes": [],
            "_model_module": "@jupyter-widgets/controls",
            "_model_module_version": "1.5.0",
            "_model_name": "HTMLModel",
            "_view_count": null,
            "_view_module": "@jupyter-widgets/controls",
            "_view_module_version": "1.5.0",
            "_view_name": "HTMLView",
            "description": "",
            "description_tooltip": null,
            "layout": "IPY_MODEL_19a79da95dd3401486b7e4b61de4bf20",
            "placeholder": "​",
            "style": "IPY_MODEL_8dac8da78c9444acb1fbb5c7f98493e1",
            "value": " 1648877/1648877 [00:00&lt;00:00, 24146232.23it/s]"
          }
        },
        "3a06b9b3a642460786ccb542a2687941": {
          "model_module": "@jupyter-widgets/base",
          "model_name": "LayoutModel",
          "model_module_version": "1.2.0",
          "state": {
            "_model_module": "@jupyter-widgets/base",
            "_model_module_version": "1.2.0",
            "_model_name": "LayoutModel",
            "_view_count": null,
            "_view_module": "@jupyter-widgets/base",
            "_view_module_version": "1.2.0",
            "_view_name": "LayoutView",
            "align_content": null,
            "align_items": null,
            "align_self": null,
            "border": null,
            "bottom": null,
            "display": null,
            "flex": null,
            "flex_flow": null,
            "grid_area": null,
            "grid_auto_columns": null,
            "grid_auto_flow": null,
            "grid_auto_rows": null,
            "grid_column": null,
            "grid_gap": null,
            "grid_row": null,
            "grid_template_areas": null,
            "grid_template_columns": null,
            "grid_template_rows": null,
            "height": null,
            "justify_content": null,
            "justify_items": null,
            "left": null,
            "margin": null,
            "max_height": null,
            "max_width": null,
            "min_height": null,
            "min_width": null,
            "object_fit": null,
            "object_position": null,
            "order": null,
            "overflow": null,
            "overflow_x": null,
            "overflow_y": null,
            "padding": null,
            "right": null,
            "top": null,
            "visibility": null,
            "width": null
          }
        },
        "e84d290534b1490c8362740987e32f23": {
          "model_module": "@jupyter-widgets/base",
          "model_name": "LayoutModel",
          "model_module_version": "1.2.0",
          "state": {
            "_model_module": "@jupyter-widgets/base",
            "_model_module_version": "1.2.0",
            "_model_name": "LayoutModel",
            "_view_count": null,
            "_view_module": "@jupyter-widgets/base",
            "_view_module_version": "1.2.0",
            "_view_name": "LayoutView",
            "align_content": null,
            "align_items": null,
            "align_self": null,
            "border": null,
            "bottom": null,
            "display": null,
            "flex": null,
            "flex_flow": null,
            "grid_area": null,
            "grid_auto_columns": null,
            "grid_auto_flow": null,
            "grid_auto_rows": null,
            "grid_column": null,
            "grid_gap": null,
            "grid_row": null,
            "grid_template_areas": null,
            "grid_template_columns": null,
            "grid_template_rows": null,
            "height": null,
            "justify_content": null,
            "justify_items": null,
            "left": null,
            "margin": null,
            "max_height": null,
            "max_width": null,
            "min_height": null,
            "min_width": null,
            "object_fit": null,
            "object_position": null,
            "order": null,
            "overflow": null,
            "overflow_x": null,
            "overflow_y": null,
            "padding": null,
            "right": null,
            "top": null,
            "visibility": null,
            "width": null
          }
        },
        "457c8d7a9d9046fa9b8e2351721f42e8": {
          "model_module": "@jupyter-widgets/controls",
          "model_name": "DescriptionStyleModel",
          "model_module_version": "1.5.0",
          "state": {
            "_model_module": "@jupyter-widgets/controls",
            "_model_module_version": "1.5.0",
            "_model_name": "DescriptionStyleModel",
            "_view_count": null,
            "_view_module": "@jupyter-widgets/base",
            "_view_module_version": "1.2.0",
            "_view_name": "StyleView",
            "description_width": ""
          }
        },
        "a9569d30217d41a6a9a56befc3e81cfa": {
          "model_module": "@jupyter-widgets/base",
          "model_name": "LayoutModel",
          "model_module_version": "1.2.0",
          "state": {
            "_model_module": "@jupyter-widgets/base",
            "_model_module_version": "1.2.0",
            "_model_name": "LayoutModel",
            "_view_count": null,
            "_view_module": "@jupyter-widgets/base",
            "_view_module_version": "1.2.0",
            "_view_name": "LayoutView",
            "align_content": null,
            "align_items": null,
            "align_self": null,
            "border": null,
            "bottom": null,
            "display": null,
            "flex": null,
            "flex_flow": null,
            "grid_area": null,
            "grid_auto_columns": null,
            "grid_auto_flow": null,
            "grid_auto_rows": null,
            "grid_column": null,
            "grid_gap": null,
            "grid_row": null,
            "grid_template_areas": null,
            "grid_template_columns": null,
            "grid_template_rows": null,
            "height": null,
            "justify_content": null,
            "justify_items": null,
            "left": null,
            "margin": null,
            "max_height": null,
            "max_width": null,
            "min_height": null,
            "min_width": null,
            "object_fit": null,
            "object_position": null,
            "order": null,
            "overflow": null,
            "overflow_x": null,
            "overflow_y": null,
            "padding": null,
            "right": null,
            "top": null,
            "visibility": null,
            "width": null
          }
        },
        "5c173fa62217484d857cb3297bb01bbe": {
          "model_module": "@jupyter-widgets/controls",
          "model_name": "ProgressStyleModel",
          "model_module_version": "1.5.0",
          "state": {
            "_model_module": "@jupyter-widgets/controls",
            "_model_module_version": "1.5.0",
            "_model_name": "ProgressStyleModel",
            "_view_count": null,
            "_view_module": "@jupyter-widgets/base",
            "_view_module_version": "1.2.0",
            "_view_name": "StyleView",
            "bar_color": null,
            "description_width": ""
          }
        },
        "19a79da95dd3401486b7e4b61de4bf20": {
          "model_module": "@jupyter-widgets/base",
          "model_name": "LayoutModel",
          "model_module_version": "1.2.0",
          "state": {
            "_model_module": "@jupyter-widgets/base",
            "_model_module_version": "1.2.0",
            "_model_name": "LayoutModel",
            "_view_count": null,
            "_view_module": "@jupyter-widgets/base",
            "_view_module_version": "1.2.0",
            "_view_name": "LayoutView",
            "align_content": null,
            "align_items": null,
            "align_self": null,
            "border": null,
            "bottom": null,
            "display": null,
            "flex": null,
            "flex_flow": null,
            "grid_area": null,
            "grid_auto_columns": null,
            "grid_auto_flow": null,
            "grid_auto_rows": null,
            "grid_column": null,
            "grid_gap": null,
            "grid_row": null,
            "grid_template_areas": null,
            "grid_template_columns": null,
            "grid_template_rows": null,
            "height": null,
            "justify_content": null,
            "justify_items": null,
            "left": null,
            "margin": null,
            "max_height": null,
            "max_width": null,
            "min_height": null,
            "min_width": null,
            "object_fit": null,
            "object_position": null,
            "order": null,
            "overflow": null,
            "overflow_x": null,
            "overflow_y": null,
            "padding": null,
            "right": null,
            "top": null,
            "visibility": null,
            "width": null
          }
        },
        "8dac8da78c9444acb1fbb5c7f98493e1": {
          "model_module": "@jupyter-widgets/controls",
          "model_name": "DescriptionStyleModel",
          "model_module_version": "1.5.0",
          "state": {
            "_model_module": "@jupyter-widgets/controls",
            "_model_module_version": "1.5.0",
            "_model_name": "DescriptionStyleModel",
            "_view_count": null,
            "_view_module": "@jupyter-widgets/base",
            "_view_module_version": "1.2.0",
            "_view_name": "StyleView",
            "description_width": ""
          }
        },
        "52ba2622d5804fef98cb6ae23fb23ebe": {
          "model_module": "@jupyter-widgets/controls",
          "model_name": "HBoxModel",
          "model_module_version": "1.5.0",
          "state": {
            "_dom_classes": [],
            "_model_module": "@jupyter-widgets/controls",
            "_model_module_version": "1.5.0",
            "_model_name": "HBoxModel",
            "_view_count": null,
            "_view_module": "@jupyter-widgets/controls",
            "_view_module_version": "1.5.0",
            "_view_name": "HBoxView",
            "box_style": "",
            "children": [
              "IPY_MODEL_c7d02db0fb594848b5636755abf8e84c",
              "IPY_MODEL_dadebcf8e134401c8d1bfac76dac27b2",
              "IPY_MODEL_52527c0c762343439a5cfad81d45b6c5"
            ],
            "layout": "IPY_MODEL_c1e0037aafd74b76b1a58fadd7480a8f"
          }
        },
        "c7d02db0fb594848b5636755abf8e84c": {
          "model_module": "@jupyter-widgets/controls",
          "model_name": "HTMLModel",
          "model_module_version": "1.5.0",
          "state": {
            "_dom_classes": [],
            "_model_module": "@jupyter-widgets/controls",
            "_model_module_version": "1.5.0",
            "_model_name": "HTMLModel",
            "_view_count": null,
            "_view_module": "@jupyter-widgets/controls",
            "_view_module_version": "1.5.0",
            "_view_name": "HTMLView",
            "description": "",
            "description_tooltip": null,
            "layout": "IPY_MODEL_21a5977d36874827919904962e45ab11",
            "placeholder": "​",
            "style": "IPY_MODEL_f5f07d76320d45a381b0e3db80f4c483",
            "value": "100%"
          }
        },
        "dadebcf8e134401c8d1bfac76dac27b2": {
          "model_module": "@jupyter-widgets/controls",
          "model_name": "FloatProgressModel",
          "model_module_version": "1.5.0",
          "state": {
            "_dom_classes": [],
            "_model_module": "@jupyter-widgets/controls",
            "_model_module_version": "1.5.0",
            "_model_name": "FloatProgressModel",
            "_view_count": null,
            "_view_module": "@jupyter-widgets/controls",
            "_view_module_version": "1.5.0",
            "_view_name": "ProgressView",
            "bar_style": "success",
            "description": "",
            "description_tooltip": null,
            "layout": "IPY_MODEL_451cadeb832a4397884f99e75c5450f0",
            "max": 4542,
            "min": 0,
            "orientation": "horizontal",
            "style": "IPY_MODEL_5d021069888e4d2195e624920345f3ec",
            "value": 4542
          }
        },
        "52527c0c762343439a5cfad81d45b6c5": {
          "model_module": "@jupyter-widgets/controls",
          "model_name": "HTMLModel",
          "model_module_version": "1.5.0",
          "state": {
            "_dom_classes": [],
            "_model_module": "@jupyter-widgets/controls",
            "_model_module_version": "1.5.0",
            "_model_name": "HTMLModel",
            "_view_count": null,
            "_view_module": "@jupyter-widgets/controls",
            "_view_module_version": "1.5.0",
            "_view_name": "HTMLView",
            "description": "",
            "description_tooltip": null,
            "layout": "IPY_MODEL_a2ecc185dc27453fb09b053c4af55135",
            "placeholder": "​",
            "style": "IPY_MODEL_dd3e6a1777ee4017b5f054220c11a647",
            "value": " 4542/4542 [00:00&lt;00:00, 53369.40it/s]"
          }
        },
        "c1e0037aafd74b76b1a58fadd7480a8f": {
          "model_module": "@jupyter-widgets/base",
          "model_name": "LayoutModel",
          "model_module_version": "1.2.0",
          "state": {
            "_model_module": "@jupyter-widgets/base",
            "_model_module_version": "1.2.0",
            "_model_name": "LayoutModel",
            "_view_count": null,
            "_view_module": "@jupyter-widgets/base",
            "_view_module_version": "1.2.0",
            "_view_name": "LayoutView",
            "align_content": null,
            "align_items": null,
            "align_self": null,
            "border": null,
            "bottom": null,
            "display": null,
            "flex": null,
            "flex_flow": null,
            "grid_area": null,
            "grid_auto_columns": null,
            "grid_auto_flow": null,
            "grid_auto_rows": null,
            "grid_column": null,
            "grid_gap": null,
            "grid_row": null,
            "grid_template_areas": null,
            "grid_template_columns": null,
            "grid_template_rows": null,
            "height": null,
            "justify_content": null,
            "justify_items": null,
            "left": null,
            "margin": null,
            "max_height": null,
            "max_width": null,
            "min_height": null,
            "min_width": null,
            "object_fit": null,
            "object_position": null,
            "order": null,
            "overflow": null,
            "overflow_x": null,
            "overflow_y": null,
            "padding": null,
            "right": null,
            "top": null,
            "visibility": null,
            "width": null
          }
        },
        "21a5977d36874827919904962e45ab11": {
          "model_module": "@jupyter-widgets/base",
          "model_name": "LayoutModel",
          "model_module_version": "1.2.0",
          "state": {
            "_model_module": "@jupyter-widgets/base",
            "_model_module_version": "1.2.0",
            "_model_name": "LayoutModel",
            "_view_count": null,
            "_view_module": "@jupyter-widgets/base",
            "_view_module_version": "1.2.0",
            "_view_name": "LayoutView",
            "align_content": null,
            "align_items": null,
            "align_self": null,
            "border": null,
            "bottom": null,
            "display": null,
            "flex": null,
            "flex_flow": null,
            "grid_area": null,
            "grid_auto_columns": null,
            "grid_auto_flow": null,
            "grid_auto_rows": null,
            "grid_column": null,
            "grid_gap": null,
            "grid_row": null,
            "grid_template_areas": null,
            "grid_template_columns": null,
            "grid_template_rows": null,
            "height": null,
            "justify_content": null,
            "justify_items": null,
            "left": null,
            "margin": null,
            "max_height": null,
            "max_width": null,
            "min_height": null,
            "min_width": null,
            "object_fit": null,
            "object_position": null,
            "order": null,
            "overflow": null,
            "overflow_x": null,
            "overflow_y": null,
            "padding": null,
            "right": null,
            "top": null,
            "visibility": null,
            "width": null
          }
        },
        "f5f07d76320d45a381b0e3db80f4c483": {
          "model_module": "@jupyter-widgets/controls",
          "model_name": "DescriptionStyleModel",
          "model_module_version": "1.5.0",
          "state": {
            "_model_module": "@jupyter-widgets/controls",
            "_model_module_version": "1.5.0",
            "_model_name": "DescriptionStyleModel",
            "_view_count": null,
            "_view_module": "@jupyter-widgets/base",
            "_view_module_version": "1.2.0",
            "_view_name": "StyleView",
            "description_width": ""
          }
        },
        "451cadeb832a4397884f99e75c5450f0": {
          "model_module": "@jupyter-widgets/base",
          "model_name": "LayoutModel",
          "model_module_version": "1.2.0",
          "state": {
            "_model_module": "@jupyter-widgets/base",
            "_model_module_version": "1.2.0",
            "_model_name": "LayoutModel",
            "_view_count": null,
            "_view_module": "@jupyter-widgets/base",
            "_view_module_version": "1.2.0",
            "_view_name": "LayoutView",
            "align_content": null,
            "align_items": null,
            "align_self": null,
            "border": null,
            "bottom": null,
            "display": null,
            "flex": null,
            "flex_flow": null,
            "grid_area": null,
            "grid_auto_columns": null,
            "grid_auto_flow": null,
            "grid_auto_rows": null,
            "grid_column": null,
            "grid_gap": null,
            "grid_row": null,
            "grid_template_areas": null,
            "grid_template_columns": null,
            "grid_template_rows": null,
            "height": null,
            "justify_content": null,
            "justify_items": null,
            "left": null,
            "margin": null,
            "max_height": null,
            "max_width": null,
            "min_height": null,
            "min_width": null,
            "object_fit": null,
            "object_position": null,
            "order": null,
            "overflow": null,
            "overflow_x": null,
            "overflow_y": null,
            "padding": null,
            "right": null,
            "top": null,
            "visibility": null,
            "width": null
          }
        },
        "5d021069888e4d2195e624920345f3ec": {
          "model_module": "@jupyter-widgets/controls",
          "model_name": "ProgressStyleModel",
          "model_module_version": "1.5.0",
          "state": {
            "_model_module": "@jupyter-widgets/controls",
            "_model_module_version": "1.5.0",
            "_model_name": "ProgressStyleModel",
            "_view_count": null,
            "_view_module": "@jupyter-widgets/base",
            "_view_module_version": "1.2.0",
            "_view_name": "StyleView",
            "bar_color": null,
            "description_width": ""
          }
        },
        "a2ecc185dc27453fb09b053c4af55135": {
          "model_module": "@jupyter-widgets/base",
          "model_name": "LayoutModel",
          "model_module_version": "1.2.0",
          "state": {
            "_model_module": "@jupyter-widgets/base",
            "_model_module_version": "1.2.0",
            "_model_name": "LayoutModel",
            "_view_count": null,
            "_view_module": "@jupyter-widgets/base",
            "_view_module_version": "1.2.0",
            "_view_name": "LayoutView",
            "align_content": null,
            "align_items": null,
            "align_self": null,
            "border": null,
            "bottom": null,
            "display": null,
            "flex": null,
            "flex_flow": null,
            "grid_area": null,
            "grid_auto_columns": null,
            "grid_auto_flow": null,
            "grid_auto_rows": null,
            "grid_column": null,
            "grid_gap": null,
            "grid_row": null,
            "grid_template_areas": null,
            "grid_template_columns": null,
            "grid_template_rows": null,
            "height": null,
            "justify_content": null,
            "justify_items": null,
            "left": null,
            "margin": null,
            "max_height": null,
            "max_width": null,
            "min_height": null,
            "min_width": null,
            "object_fit": null,
            "object_position": null,
            "order": null,
            "overflow": null,
            "overflow_x": null,
            "overflow_y": null,
            "padding": null,
            "right": null,
            "top": null,
            "visibility": null,
            "width": null
          }
        },
        "dd3e6a1777ee4017b5f054220c11a647": {
          "model_module": "@jupyter-widgets/controls",
          "model_name": "DescriptionStyleModel",
          "model_module_version": "1.5.0",
          "state": {
            "_model_module": "@jupyter-widgets/controls",
            "_model_module_version": "1.5.0",
            "_model_name": "DescriptionStyleModel",
            "_view_count": null,
            "_view_module": "@jupyter-widgets/base",
            "_view_module_version": "1.2.0",
            "_view_name": "StyleView",
            "description_width": ""
          }
        }
      }
    },
    "accelerator": "GPU"
  },
  "nbformat": 4,
  "nbformat_minor": 5
}